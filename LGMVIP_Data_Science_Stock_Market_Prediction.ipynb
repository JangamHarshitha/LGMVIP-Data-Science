{
  "nbformat": 4,
  "nbformat_minor": 0,
  "metadata": {
    "colab": {
      "name": "LGMVIP-Data Science Stock_Market_Prediction",
      "provenance": []
    },
    "kernelspec": {
      "name": "python3",
      "display_name": "Python 3"
    },
    "language_info": {
      "name": "python"
    }
  },
  "cells": [
    {
      "cell_type": "code",
      "metadata": {
        "id": "JgvLbnrDBFqW"
      },
      "source": [
        "import pandas as pd\n",
        "import matplotlib.pyplot as plt\n",
        "import numpy as np\n",
        "from sklearn.preprocessing import MinMaxScaler"
      ],
      "execution_count": 1,
      "outputs": []
    },
    {
      "cell_type": "code",
      "metadata": {
        "colab": {
          "resources": {
            "http://localhost:8080/nbextensions/google.colab/files.js": {
              "data": "Ly8gQ29weXJpZ2h0IDIwMTcgR29vZ2xlIExMQwovLwovLyBMaWNlbnNlZCB1bmRlciB0aGUgQXBhY2hlIExpY2Vuc2UsIFZlcnNpb24gMi4wICh0aGUgIkxpY2Vuc2UiKTsKLy8geW91IG1heSBub3QgdXNlIHRoaXMgZmlsZSBleGNlcHQgaW4gY29tcGxpYW5jZSB3aXRoIHRoZSBMaWNlbnNlLgovLyBZb3UgbWF5IG9idGFpbiBhIGNvcHkgb2YgdGhlIExpY2Vuc2UgYXQKLy8KLy8gICAgICBodHRwOi8vd3d3LmFwYWNoZS5vcmcvbGljZW5zZXMvTElDRU5TRS0yLjAKLy8KLy8gVW5sZXNzIHJlcXVpcmVkIGJ5IGFwcGxpY2FibGUgbGF3IG9yIGFncmVlZCB0byBpbiB3cml0aW5nLCBzb2Z0d2FyZQovLyBkaXN0cmlidXRlZCB1bmRlciB0aGUgTGljZW5zZSBpcyBkaXN0cmlidXRlZCBvbiBhbiAiQVMgSVMiIEJBU0lTLAovLyBXSVRIT1VUIFdBUlJBTlRJRVMgT1IgQ09ORElUSU9OUyBPRiBBTlkgS0lORCwgZWl0aGVyIGV4cHJlc3Mgb3IgaW1wbGllZC4KLy8gU2VlIHRoZSBMaWNlbnNlIGZvciB0aGUgc3BlY2lmaWMgbGFuZ3VhZ2UgZ292ZXJuaW5nIHBlcm1pc3Npb25zIGFuZAovLyBsaW1pdGF0aW9ucyB1bmRlciB0aGUgTGljZW5zZS4KCi8qKgogKiBAZmlsZW92ZXJ2aWV3IEhlbHBlcnMgZm9yIGdvb2dsZS5jb2xhYiBQeXRob24gbW9kdWxlLgogKi8KKGZ1bmN0aW9uKHNjb3BlKSB7CmZ1bmN0aW9uIHNwYW4odGV4dCwgc3R5bGVBdHRyaWJ1dGVzID0ge30pIHsKICBjb25zdCBlbGVtZW50ID0gZG9jdW1lbnQuY3JlYXRlRWxlbWVudCgnc3BhbicpOwogIGVsZW1lbnQudGV4dENvbnRlbnQgPSB0ZXh0OwogIGZvciAoY29uc3Qga2V5IG9mIE9iamVjdC5rZXlzKHN0eWxlQXR0cmlidXRlcykpIHsKICAgIGVsZW1lbnQuc3R5bGVba2V5XSA9IHN0eWxlQXR0cmlidXRlc1trZXldOwogIH0KICByZXR1cm4gZWxlbWVudDsKfQoKLy8gTWF4IG51bWJlciBvZiBieXRlcyB3aGljaCB3aWxsIGJlIHVwbG9hZGVkIGF0IGEgdGltZS4KY29uc3QgTUFYX1BBWUxPQURfU0laRSA9IDEwMCAqIDEwMjQ7CgpmdW5jdGlvbiBfdXBsb2FkRmlsZXMoaW5wdXRJZCwgb3V0cHV0SWQpIHsKICBjb25zdCBzdGVwcyA9IHVwbG9hZEZpbGVzU3RlcChpbnB1dElkLCBvdXRwdXRJZCk7CiAgY29uc3Qgb3V0cHV0RWxlbWVudCA9IGRvY3VtZW50LmdldEVsZW1lbnRCeUlkKG91dHB1dElkKTsKICAvLyBDYWNoZSBzdGVwcyBvbiB0aGUgb3V0cHV0RWxlbWVudCB0byBtYWtlIGl0IGF2YWlsYWJsZSBmb3IgdGhlIG5leHQgY2FsbAogIC8vIHRvIHVwbG9hZEZpbGVzQ29udGludWUgZnJvbSBQeXRob24uCiAgb3V0cHV0RWxlbWVudC5zdGVwcyA9IHN0ZXBzOwoKICByZXR1cm4gX3VwbG9hZEZpbGVzQ29udGludWUob3V0cHV0SWQpOwp9CgovLyBUaGlzIGlzIHJvdWdobHkgYW4gYXN5bmMgZ2VuZXJhdG9yIChub3Qgc3VwcG9ydGVkIGluIHRoZSBicm93c2VyIHlldCksCi8vIHdoZXJlIHRoZXJlIGFyZSBtdWx0aXBsZSBhc3luY2hyb25vdXMgc3RlcHMgYW5kIHRoZSBQeXRob24gc2lkZSBpcyBnb2luZwovLyB0byBwb2xsIGZvciBjb21wbGV0aW9uIG9mIGVhY2ggc3RlcC4KLy8gVGhpcyB1c2VzIGEgUHJvbWlzZSB0byBibG9jayB0aGUgcHl0aG9uIHNpZGUgb24gY29tcGxldGlvbiBvZiBlYWNoIHN0ZXAsCi8vIHRoZW4gcGFzc2VzIHRoZSByZXN1bHQgb2YgdGhlIHByZXZpb3VzIHN0ZXAgYXMgdGhlIGlucHV0IHRvIHRoZSBuZXh0IHN0ZXAuCmZ1bmN0aW9uIF91cGxvYWRGaWxlc0NvbnRpbnVlKG91dHB1dElkKSB7CiAgY29uc3Qgb3V0cHV0RWxlbWVudCA9IGRvY3VtZW50LmdldEVsZW1lbnRCeUlkKG91dHB1dElkKTsKICBjb25zdCBzdGVwcyA9IG91dHB1dEVsZW1lbnQuc3RlcHM7CgogIGNvbnN0IG5leHQgPSBzdGVwcy5uZXh0KG91dHB1dEVsZW1lbnQubGFzdFByb21pc2VWYWx1ZSk7CiAgcmV0dXJuIFByb21pc2UucmVzb2x2ZShuZXh0LnZhbHVlLnByb21pc2UpLnRoZW4oKHZhbHVlKSA9PiB7CiAgICAvLyBDYWNoZSB0aGUgbGFzdCBwcm9taXNlIHZhbHVlIHRvIG1ha2UgaXQgYXZhaWxhYmxlIHRvIHRoZSBuZXh0CiAgICAvLyBzdGVwIG9mIHRoZSBnZW5lcmF0b3IuCiAgICBvdXRwdXRFbGVtZW50Lmxhc3RQcm9taXNlVmFsdWUgPSB2YWx1ZTsKICAgIHJldHVybiBuZXh0LnZhbHVlLnJlc3BvbnNlOwogIH0pOwp9CgovKioKICogR2VuZXJhdG9yIGZ1bmN0aW9uIHdoaWNoIGlzIGNhbGxlZCBiZXR3ZWVuIGVhY2ggYXN5bmMgc3RlcCBvZiB0aGUgdXBsb2FkCiAqIHByb2Nlc3MuCiAqIEBwYXJhbSB7c3RyaW5nfSBpbnB1dElkIEVsZW1lbnQgSUQgb2YgdGhlIGlucHV0IGZpbGUgcGlja2VyIGVsZW1lbnQuCiAqIEBwYXJhbSB7c3RyaW5nfSBvdXRwdXRJZCBFbGVtZW50IElEIG9mIHRoZSBvdXRwdXQgZGlzcGxheS4KICogQHJldHVybiB7IUl0ZXJhYmxlPCFPYmplY3Q+fSBJdGVyYWJsZSBvZiBuZXh0IHN0ZXBzLgogKi8KZnVuY3Rpb24qIHVwbG9hZEZpbGVzU3RlcChpbnB1dElkLCBvdXRwdXRJZCkgewogIGNvbnN0IGlucHV0RWxlbWVudCA9IGRvY3VtZW50LmdldEVsZW1lbnRCeUlkKGlucHV0SWQpOwogIGlucHV0RWxlbWVudC5kaXNhYmxlZCA9IGZhbHNlOwoKICBjb25zdCBvdXRwdXRFbGVtZW50ID0gZG9jdW1lbnQuZ2V0RWxlbWVudEJ5SWQob3V0cHV0SWQpOwogIG91dHB1dEVsZW1lbnQuaW5uZXJIVE1MID0gJyc7CgogIGNvbnN0IHBpY2tlZFByb21pc2UgPSBuZXcgUHJvbWlzZSgocmVzb2x2ZSkgPT4gewogICAgaW5wdXRFbGVtZW50LmFkZEV2ZW50TGlzdGVuZXIoJ2NoYW5nZScsIChlKSA9PiB7CiAgICAgIHJlc29sdmUoZS50YXJnZXQuZmlsZXMpOwogICAgfSk7CiAgfSk7CgogIGNvbnN0IGNhbmNlbCA9IGRvY3VtZW50LmNyZWF0ZUVsZW1lbnQoJ2J1dHRvbicpOwogIGlucHV0RWxlbWVudC5wYXJlbnRFbGVtZW50LmFwcGVuZENoaWxkKGNhbmNlbCk7CiAgY2FuY2VsLnRleHRDb250ZW50ID0gJ0NhbmNlbCB1cGxvYWQnOwogIGNvbnN0IGNhbmNlbFByb21pc2UgPSBuZXcgUHJvbWlzZSgocmVzb2x2ZSkgPT4gewogICAgY2FuY2VsLm9uY2xpY2sgPSAoKSA9PiB7CiAgICAgIHJlc29sdmUobnVsbCk7CiAgICB9OwogIH0pOwoKICAvLyBXYWl0IGZvciB0aGUgdXNlciB0byBwaWNrIHRoZSBmaWxlcy4KICBjb25zdCBmaWxlcyA9IHlpZWxkIHsKICAgIHByb21pc2U6IFByb21pc2UucmFjZShbcGlja2VkUHJvbWlzZSwgY2FuY2VsUHJvbWlzZV0pLAogICAgcmVzcG9uc2U6IHsKICAgICAgYWN0aW9uOiAnc3RhcnRpbmcnLAogICAgfQogIH07CgogIGNhbmNlbC5yZW1vdmUoKTsKCiAgLy8gRGlzYWJsZSB0aGUgaW5wdXQgZWxlbWVudCBzaW5jZSBmdXJ0aGVyIHBpY2tzIGFyZSBub3QgYWxsb3dlZC4KICBpbnB1dEVsZW1lbnQuZGlzYWJsZWQgPSB0cnVlOwoKICBpZiAoIWZpbGVzKSB7CiAgICByZXR1cm4gewogICAgICByZXNwb25zZTogewogICAgICAgIGFjdGlvbjogJ2NvbXBsZXRlJywKICAgICAgfQogICAgfTsKICB9CgogIGZvciAoY29uc3QgZmlsZSBvZiBmaWxlcykgewogICAgY29uc3QgbGkgPSBkb2N1bWVudC5jcmVhdGVFbGVtZW50KCdsaScpOwogICAgbGkuYXBwZW5kKHNwYW4oZmlsZS5uYW1lLCB7Zm9udFdlaWdodDogJ2JvbGQnfSkpOwogICAgbGkuYXBwZW5kKHNwYW4oCiAgICAgICAgYCgke2ZpbGUudHlwZSB8fCAnbi9hJ30pIC0gJHtmaWxlLnNpemV9IGJ5dGVzLCBgICsKICAgICAgICBgbGFzdCBtb2RpZmllZDogJHsKICAgICAgICAgICAgZmlsZS5sYXN0TW9kaWZpZWREYXRlID8gZmlsZS5sYXN0TW9kaWZpZWREYXRlLnRvTG9jYWxlRGF0ZVN0cmluZygpIDoKICAgICAgICAgICAgICAgICAgICAgICAgICAgICAgICAgICAgJ24vYSd9IC0gYCkpOwogICAgY29uc3QgcGVyY2VudCA9IHNwYW4oJzAlIGRvbmUnKTsKICAgIGxpLmFwcGVuZENoaWxkKHBlcmNlbnQpOwoKICAgIG91dHB1dEVsZW1lbnQuYXBwZW5kQ2hpbGQobGkpOwoKICAgIGNvbnN0IGZpbGVEYXRhUHJvbWlzZSA9IG5ldyBQcm9taXNlKChyZXNvbHZlKSA9PiB7CiAgICAgIGNvbnN0IHJlYWRlciA9IG5ldyBGaWxlUmVhZGVyKCk7CiAgICAgIHJlYWRlci5vbmxvYWQgPSAoZSkgPT4gewogICAgICAgIHJlc29sdmUoZS50YXJnZXQucmVzdWx0KTsKICAgICAgfTsKICAgICAgcmVhZGVyLnJlYWRBc0FycmF5QnVmZmVyKGZpbGUpOwogICAgfSk7CiAgICAvLyBXYWl0IGZvciB0aGUgZGF0YSB0byBiZSByZWFkeS4KICAgIGxldCBmaWxlRGF0YSA9IHlpZWxkIHsKICAgICAgcHJvbWlzZTogZmlsZURhdGFQcm9taXNlLAogICAgICByZXNwb25zZTogewogICAgICAgIGFjdGlvbjogJ2NvbnRpbnVlJywKICAgICAgfQogICAgfTsKCiAgICAvLyBVc2UgYSBjaHVua2VkIHNlbmRpbmcgdG8gYXZvaWQgbWVzc2FnZSBzaXplIGxpbWl0cy4gU2VlIGIvNjIxMTU2NjAuCiAgICBsZXQgcG9zaXRpb24gPSAwOwogICAgZG8gewogICAgICBjb25zdCBsZW5ndGggPSBNYXRoLm1pbihmaWxlRGF0YS5ieXRlTGVuZ3RoIC0gcG9zaXRpb24sIE1BWF9QQVlMT0FEX1NJWkUpOwogICAgICBjb25zdCBjaHVuayA9IG5ldyBVaW50OEFycmF5KGZpbGVEYXRhLCBwb3NpdGlvbiwgbGVuZ3RoKTsKICAgICAgcG9zaXRpb24gKz0gbGVuZ3RoOwoKICAgICAgY29uc3QgYmFzZTY0ID0gYnRvYShTdHJpbmcuZnJvbUNoYXJDb2RlLmFwcGx5KG51bGwsIGNodW5rKSk7CiAgICAgIHlpZWxkIHsKICAgICAgICByZXNwb25zZTogewogICAgICAgICAgYWN0aW9uOiAnYXBwZW5kJywKICAgICAgICAgIGZpbGU6IGZpbGUubmFtZSwKICAgICAgICAgIGRhdGE6IGJhc2U2NCwKICAgICAgICB9LAogICAgICB9OwoKICAgICAgbGV0IHBlcmNlbnREb25lID0gZmlsZURhdGEuYnl0ZUxlbmd0aCA9PT0gMCA/CiAgICAgICAgICAxMDAgOgogICAgICAgICAgTWF0aC5yb3VuZCgocG9zaXRpb24gLyBmaWxlRGF0YS5ieXRlTGVuZ3RoKSAqIDEwMCk7CiAgICAgIHBlcmNlbnQudGV4dENvbnRlbnQgPSBgJHtwZXJjZW50RG9uZX0lIGRvbmVgOwoKICAgIH0gd2hpbGUgKHBvc2l0aW9uIDwgZmlsZURhdGEuYnl0ZUxlbmd0aCk7CiAgfQoKICAvLyBBbGwgZG9uZS4KICB5aWVsZCB7CiAgICByZXNwb25zZTogewogICAgICBhY3Rpb246ICdjb21wbGV0ZScsCiAgICB9CiAgfTsKfQoKc2NvcGUuZ29vZ2xlID0gc2NvcGUuZ29vZ2xlIHx8IHt9OwpzY29wZS5nb29nbGUuY29sYWIgPSBzY29wZS5nb29nbGUuY29sYWIgfHwge307CnNjb3BlLmdvb2dsZS5jb2xhYi5fZmlsZXMgPSB7CiAgX3VwbG9hZEZpbGVzLAogIF91cGxvYWRGaWxlc0NvbnRpbnVlLAp9Owp9KShzZWxmKTsK",
              "ok": true,
              "headers": [
                [
                  "content-type",
                  "application/javascript"
                ]
              ],
              "status": 200,
              "status_text": ""
            }
          },
          "base_uri": "https://localhost:8080/",
          "height": 73
        },
        "id": "v_Ck1_hYBLD4",
        "outputId": "24bca63f-7c43-43c3-c9d8-600c10cfa9a3"
      },
      "source": [
        "from google.colab import files\n",
        "uploaded=files.upload()"
      ],
      "execution_count": 3,
      "outputs": [
        {
          "output_type": "display_data",
          "data": {
            "text/html": [
              "\n",
              "     <input type=\"file\" id=\"files-19f3494e-cd34-4c17-baa0-7f55012c056d\" name=\"files[]\" multiple disabled\n",
              "        style=\"border:none\" />\n",
              "     <output id=\"result-19f3494e-cd34-4c17-baa0-7f55012c056d\">\n",
              "      Upload widget is only available when the cell has been executed in the\n",
              "      current browser session. Please rerun this cell to enable.\n",
              "      </output>\n",
              "      <script src=\"/nbextensions/google.colab/files.js\"></script> "
            ],
            "text/plain": [
              "<IPython.core.display.HTML object>"
            ]
          },
          "metadata": {}
        },
        {
          "output_type": "stream",
          "name": "stdout",
          "text": [
            "Saving NSE.csv to NSE.csv\n"
          ]
        }
      ]
    },
    {
      "cell_type": "code",
      "metadata": {
        "id": "sUExSYqpBjnM"
      },
      "source": [
        "data = pd.read_csv('NSE.csv')"
      ],
      "execution_count": 4,
      "outputs": []
    },
    {
      "cell_type": "code",
      "metadata": {
        "colab": {
          "base_uri": "https://localhost:8080/",
          "height": 206
        },
        "id": "Mx24qS8wBnwC",
        "outputId": "d48d7d2b-eec4-49b5-b881-26b5768c7344"
      },
      "source": [
        "data.head()"
      ],
      "execution_count": 5,
      "outputs": [
        {
          "output_type": "execute_result",
          "data": {
            "text/html": [
              "<div>\n",
              "<style scoped>\n",
              "    .dataframe tbody tr th:only-of-type {\n",
              "        vertical-align: middle;\n",
              "    }\n",
              "\n",
              "    .dataframe tbody tr th {\n",
              "        vertical-align: top;\n",
              "    }\n",
              "\n",
              "    .dataframe thead th {\n",
              "        text-align: right;\n",
              "    }\n",
              "</style>\n",
              "<table border=\"1\" class=\"dataframe\">\n",
              "  <thead>\n",
              "    <tr style=\"text-align: right;\">\n",
              "      <th></th>\n",
              "      <th>Date</th>\n",
              "      <th>Open</th>\n",
              "      <th>High</th>\n",
              "      <th>Low</th>\n",
              "      <th>Last</th>\n",
              "      <th>Close</th>\n",
              "      <th>Total Trade Quantity</th>\n",
              "      <th>Turnover (Lacs)</th>\n",
              "    </tr>\n",
              "  </thead>\n",
              "  <tbody>\n",
              "    <tr>\n",
              "      <th>0</th>\n",
              "      <td>2018-10-08</td>\n",
              "      <td>208.00</td>\n",
              "      <td>222.25</td>\n",
              "      <td>206.85</td>\n",
              "      <td>216.00</td>\n",
              "      <td>215.15</td>\n",
              "      <td>4642146.0</td>\n",
              "      <td>10062.83</td>\n",
              "    </tr>\n",
              "    <tr>\n",
              "      <th>1</th>\n",
              "      <td>2018-10-05</td>\n",
              "      <td>217.00</td>\n",
              "      <td>218.60</td>\n",
              "      <td>205.90</td>\n",
              "      <td>210.25</td>\n",
              "      <td>209.20</td>\n",
              "      <td>3519515.0</td>\n",
              "      <td>7407.06</td>\n",
              "    </tr>\n",
              "    <tr>\n",
              "      <th>2</th>\n",
              "      <td>2018-10-04</td>\n",
              "      <td>223.50</td>\n",
              "      <td>227.80</td>\n",
              "      <td>216.15</td>\n",
              "      <td>217.25</td>\n",
              "      <td>218.20</td>\n",
              "      <td>1728786.0</td>\n",
              "      <td>3815.79</td>\n",
              "    </tr>\n",
              "    <tr>\n",
              "      <th>3</th>\n",
              "      <td>2018-10-03</td>\n",
              "      <td>230.00</td>\n",
              "      <td>237.50</td>\n",
              "      <td>225.75</td>\n",
              "      <td>226.45</td>\n",
              "      <td>227.60</td>\n",
              "      <td>1708590.0</td>\n",
              "      <td>3960.27</td>\n",
              "    </tr>\n",
              "    <tr>\n",
              "      <th>4</th>\n",
              "      <td>2018-10-01</td>\n",
              "      <td>234.55</td>\n",
              "      <td>234.60</td>\n",
              "      <td>221.05</td>\n",
              "      <td>230.30</td>\n",
              "      <td>230.90</td>\n",
              "      <td>1534749.0</td>\n",
              "      <td>3486.05</td>\n",
              "    </tr>\n",
              "  </tbody>\n",
              "</table>\n",
              "</div>"
            ],
            "text/plain": [
              "         Date    Open    High  ...   Close  Total Trade Quantity  Turnover (Lacs)\n",
              "0  2018-10-08  208.00  222.25  ...  215.15             4642146.0         10062.83\n",
              "1  2018-10-05  217.00  218.60  ...  209.20             3519515.0          7407.06\n",
              "2  2018-10-04  223.50  227.80  ...  218.20             1728786.0          3815.79\n",
              "3  2018-10-03  230.00  237.50  ...  227.60             1708590.0          3960.27\n",
              "4  2018-10-01  234.55  234.60  ...  230.90             1534749.0          3486.05\n",
              "\n",
              "[5 rows x 8 columns]"
            ]
          },
          "metadata": {},
          "execution_count": 5
        }
      ]
    },
    {
      "cell_type": "code",
      "metadata": {
        "colab": {
          "base_uri": "https://localhost:8080/",
          "height": 206
        },
        "id": "HcCRw3O9BszB",
        "outputId": "69bf6551-46c1-4c21-e68e-daddc8b32265"
      },
      "source": [
        "data.tail()"
      ],
      "execution_count": 6,
      "outputs": [
        {
          "output_type": "execute_result",
          "data": {
            "text/html": [
              "<div>\n",
              "<style scoped>\n",
              "    .dataframe tbody tr th:only-of-type {\n",
              "        vertical-align: middle;\n",
              "    }\n",
              "\n",
              "    .dataframe tbody tr th {\n",
              "        vertical-align: top;\n",
              "    }\n",
              "\n",
              "    .dataframe thead th {\n",
              "        text-align: right;\n",
              "    }\n",
              "</style>\n",
              "<table border=\"1\" class=\"dataframe\">\n",
              "  <thead>\n",
              "    <tr style=\"text-align: right;\">\n",
              "      <th></th>\n",
              "      <th>Date</th>\n",
              "      <th>Open</th>\n",
              "      <th>High</th>\n",
              "      <th>Low</th>\n",
              "      <th>Last</th>\n",
              "      <th>Close</th>\n",
              "      <th>Total Trade Quantity</th>\n",
              "      <th>Turnover (Lacs)</th>\n",
              "    </tr>\n",
              "  </thead>\n",
              "  <tbody>\n",
              "    <tr>\n",
              "      <th>1230</th>\n",
              "      <td>2013-10-14</td>\n",
              "      <td>160.85</td>\n",
              "      <td>161.45</td>\n",
              "      <td>157.70</td>\n",
              "      <td>159.3</td>\n",
              "      <td>159.45</td>\n",
              "      <td>1281419.0</td>\n",
              "      <td>2039.09</td>\n",
              "    </tr>\n",
              "    <tr>\n",
              "      <th>1231</th>\n",
              "      <td>2013-10-11</td>\n",
              "      <td>161.15</td>\n",
              "      <td>163.45</td>\n",
              "      <td>159.00</td>\n",
              "      <td>159.8</td>\n",
              "      <td>160.05</td>\n",
              "      <td>1880046.0</td>\n",
              "      <td>3030.76</td>\n",
              "    </tr>\n",
              "    <tr>\n",
              "      <th>1232</th>\n",
              "      <td>2013-10-10</td>\n",
              "      <td>156.00</td>\n",
              "      <td>160.80</td>\n",
              "      <td>155.85</td>\n",
              "      <td>160.3</td>\n",
              "      <td>160.15</td>\n",
              "      <td>3124853.0</td>\n",
              "      <td>4978.80</td>\n",
              "    </tr>\n",
              "    <tr>\n",
              "      <th>1233</th>\n",
              "      <td>2013-10-09</td>\n",
              "      <td>155.70</td>\n",
              "      <td>158.20</td>\n",
              "      <td>154.15</td>\n",
              "      <td>155.3</td>\n",
              "      <td>155.55</td>\n",
              "      <td>2049580.0</td>\n",
              "      <td>3204.49</td>\n",
              "    </tr>\n",
              "    <tr>\n",
              "      <th>1234</th>\n",
              "      <td>2013-10-08</td>\n",
              "      <td>157.00</td>\n",
              "      <td>157.80</td>\n",
              "      <td>155.20</td>\n",
              "      <td>155.8</td>\n",
              "      <td>155.80</td>\n",
              "      <td>1720413.0</td>\n",
              "      <td>2688.94</td>\n",
              "    </tr>\n",
              "  </tbody>\n",
              "</table>\n",
              "</div>"
            ],
            "text/plain": [
              "            Date    Open    High  ...   Close  Total Trade Quantity  Turnover (Lacs)\n",
              "1230  2013-10-14  160.85  161.45  ...  159.45             1281419.0          2039.09\n",
              "1231  2013-10-11  161.15  163.45  ...  160.05             1880046.0          3030.76\n",
              "1232  2013-10-10  156.00  160.80  ...  160.15             3124853.0          4978.80\n",
              "1233  2013-10-09  155.70  158.20  ...  155.55             2049580.0          3204.49\n",
              "1234  2013-10-08  157.00  157.80  ...  155.80             1720413.0          2688.94\n",
              "\n",
              "[5 rows x 8 columns]"
            ]
          },
          "metadata": {},
          "execution_count": 6
        }
      ]
    },
    {
      "cell_type": "code",
      "metadata": {
        "colab": {
          "base_uri": "https://localhost:8080/"
        },
        "id": "hSi0bXTRBvlp",
        "outputId": "d95fb92a-c44f-4e52-9605-aefd9e730ae0"
      },
      "source": [
        "data['Date']=pd.to_datetime(data['Date'])\n",
        "print(type(data.Date[0]))"
      ],
      "execution_count": 7,
      "outputs": [
        {
          "output_type": "stream",
          "name": "stdout",
          "text": [
            "<class 'pandas._libs.tslibs.timestamps.Timestamp'>\n"
          ]
        }
      ]
    },
    {
      "cell_type": "code",
      "metadata": {
        "colab": {
          "base_uri": "https://localhost:8080/",
          "height": 206
        },
        "id": "qUzYimhtByej",
        "outputId": "2e6bce9d-bff1-44d0-a77e-532d2fb11786"
      },
      "source": [
        "df=data.sort_values(by='Date')\n",
        "df.head()"
      ],
      "execution_count": 8,
      "outputs": [
        {
          "output_type": "execute_result",
          "data": {
            "text/html": [
              "<div>\n",
              "<style scoped>\n",
              "    .dataframe tbody tr th:only-of-type {\n",
              "        vertical-align: middle;\n",
              "    }\n",
              "\n",
              "    .dataframe tbody tr th {\n",
              "        vertical-align: top;\n",
              "    }\n",
              "\n",
              "    .dataframe thead th {\n",
              "        text-align: right;\n",
              "    }\n",
              "</style>\n",
              "<table border=\"1\" class=\"dataframe\">\n",
              "  <thead>\n",
              "    <tr style=\"text-align: right;\">\n",
              "      <th></th>\n",
              "      <th>Date</th>\n",
              "      <th>Open</th>\n",
              "      <th>High</th>\n",
              "      <th>Low</th>\n",
              "      <th>Last</th>\n",
              "      <th>Close</th>\n",
              "      <th>Total Trade Quantity</th>\n",
              "      <th>Turnover (Lacs)</th>\n",
              "    </tr>\n",
              "  </thead>\n",
              "  <tbody>\n",
              "    <tr>\n",
              "      <th>1234</th>\n",
              "      <td>2013-10-08</td>\n",
              "      <td>157.00</td>\n",
              "      <td>157.80</td>\n",
              "      <td>155.20</td>\n",
              "      <td>155.8</td>\n",
              "      <td>155.80</td>\n",
              "      <td>1720413.0</td>\n",
              "      <td>2688.94</td>\n",
              "    </tr>\n",
              "    <tr>\n",
              "      <th>1233</th>\n",
              "      <td>2013-10-09</td>\n",
              "      <td>155.70</td>\n",
              "      <td>158.20</td>\n",
              "      <td>154.15</td>\n",
              "      <td>155.3</td>\n",
              "      <td>155.55</td>\n",
              "      <td>2049580.0</td>\n",
              "      <td>3204.49</td>\n",
              "    </tr>\n",
              "    <tr>\n",
              "      <th>1232</th>\n",
              "      <td>2013-10-10</td>\n",
              "      <td>156.00</td>\n",
              "      <td>160.80</td>\n",
              "      <td>155.85</td>\n",
              "      <td>160.3</td>\n",
              "      <td>160.15</td>\n",
              "      <td>3124853.0</td>\n",
              "      <td>4978.80</td>\n",
              "    </tr>\n",
              "    <tr>\n",
              "      <th>1231</th>\n",
              "      <td>2013-10-11</td>\n",
              "      <td>161.15</td>\n",
              "      <td>163.45</td>\n",
              "      <td>159.00</td>\n",
              "      <td>159.8</td>\n",
              "      <td>160.05</td>\n",
              "      <td>1880046.0</td>\n",
              "      <td>3030.76</td>\n",
              "    </tr>\n",
              "    <tr>\n",
              "      <th>1230</th>\n",
              "      <td>2013-10-14</td>\n",
              "      <td>160.85</td>\n",
              "      <td>161.45</td>\n",
              "      <td>157.70</td>\n",
              "      <td>159.3</td>\n",
              "      <td>159.45</td>\n",
              "      <td>1281419.0</td>\n",
              "      <td>2039.09</td>\n",
              "    </tr>\n",
              "  </tbody>\n",
              "</table>\n",
              "</div>"
            ],
            "text/plain": [
              "           Date    Open    High  ...   Close  Total Trade Quantity  Turnover (Lacs)\n",
              "1234 2013-10-08  157.00  157.80  ...  155.80             1720413.0          2688.94\n",
              "1233 2013-10-09  155.70  158.20  ...  155.55             2049580.0          3204.49\n",
              "1232 2013-10-10  156.00  160.80  ...  160.15             3124853.0          4978.80\n",
              "1231 2013-10-11  161.15  163.45  ...  160.05             1880046.0          3030.76\n",
              "1230 2013-10-14  160.85  161.45  ...  159.45             1281419.0          2039.09\n",
              "\n",
              "[5 rows x 8 columns]"
            ]
          },
          "metadata": {},
          "execution_count": 8
        }
      ]
    },
    {
      "cell_type": "code",
      "metadata": {
        "id": "tNwGRfmuB1Pe"
      },
      "source": [
        "df.reset_index(inplace=True)"
      ],
      "execution_count": 10,
      "outputs": []
    },
    {
      "cell_type": "code",
      "metadata": {
        "colab": {
          "base_uri": "https://localhost:8080/",
          "height": 206
        },
        "id": "09ZIiAxoB3-a",
        "outputId": "38ae83da-c928-46ec-8539-0fe9bae09e41"
      },
      "source": [
        "df.head()"
      ],
      "execution_count": 11,
      "outputs": [
        {
          "output_type": "execute_result",
          "data": {
            "text/html": [
              "<div>\n",
              "<style scoped>\n",
              "    .dataframe tbody tr th:only-of-type {\n",
              "        vertical-align: middle;\n",
              "    }\n",
              "\n",
              "    .dataframe tbody tr th {\n",
              "        vertical-align: top;\n",
              "    }\n",
              "\n",
              "    .dataframe thead th {\n",
              "        text-align: right;\n",
              "    }\n",
              "</style>\n",
              "<table border=\"1\" class=\"dataframe\">\n",
              "  <thead>\n",
              "    <tr style=\"text-align: right;\">\n",
              "      <th></th>\n",
              "      <th>level_0</th>\n",
              "      <th>index</th>\n",
              "      <th>Date</th>\n",
              "      <th>Open</th>\n",
              "      <th>High</th>\n",
              "      <th>Low</th>\n",
              "      <th>Last</th>\n",
              "      <th>Close</th>\n",
              "      <th>Total Trade Quantity</th>\n",
              "      <th>Turnover (Lacs)</th>\n",
              "    </tr>\n",
              "  </thead>\n",
              "  <tbody>\n",
              "    <tr>\n",
              "      <th>0</th>\n",
              "      <td>0</td>\n",
              "      <td>1234</td>\n",
              "      <td>2013-10-08</td>\n",
              "      <td>157.00</td>\n",
              "      <td>157.80</td>\n",
              "      <td>155.20</td>\n",
              "      <td>155.8</td>\n",
              "      <td>155.80</td>\n",
              "      <td>1720413.0</td>\n",
              "      <td>2688.94</td>\n",
              "    </tr>\n",
              "    <tr>\n",
              "      <th>1</th>\n",
              "      <td>1</td>\n",
              "      <td>1233</td>\n",
              "      <td>2013-10-09</td>\n",
              "      <td>155.70</td>\n",
              "      <td>158.20</td>\n",
              "      <td>154.15</td>\n",
              "      <td>155.3</td>\n",
              "      <td>155.55</td>\n",
              "      <td>2049580.0</td>\n",
              "      <td>3204.49</td>\n",
              "    </tr>\n",
              "    <tr>\n",
              "      <th>2</th>\n",
              "      <td>2</td>\n",
              "      <td>1232</td>\n",
              "      <td>2013-10-10</td>\n",
              "      <td>156.00</td>\n",
              "      <td>160.80</td>\n",
              "      <td>155.85</td>\n",
              "      <td>160.3</td>\n",
              "      <td>160.15</td>\n",
              "      <td>3124853.0</td>\n",
              "      <td>4978.80</td>\n",
              "    </tr>\n",
              "    <tr>\n",
              "      <th>3</th>\n",
              "      <td>3</td>\n",
              "      <td>1231</td>\n",
              "      <td>2013-10-11</td>\n",
              "      <td>161.15</td>\n",
              "      <td>163.45</td>\n",
              "      <td>159.00</td>\n",
              "      <td>159.8</td>\n",
              "      <td>160.05</td>\n",
              "      <td>1880046.0</td>\n",
              "      <td>3030.76</td>\n",
              "    </tr>\n",
              "    <tr>\n",
              "      <th>4</th>\n",
              "      <td>4</td>\n",
              "      <td>1230</td>\n",
              "      <td>2013-10-14</td>\n",
              "      <td>160.85</td>\n",
              "      <td>161.45</td>\n",
              "      <td>157.70</td>\n",
              "      <td>159.3</td>\n",
              "      <td>159.45</td>\n",
              "      <td>1281419.0</td>\n",
              "      <td>2039.09</td>\n",
              "    </tr>\n",
              "  </tbody>\n",
              "</table>\n",
              "</div>"
            ],
            "text/plain": [
              "   level_0  index       Date  ...   Close  Total Trade Quantity  Turnover (Lacs)\n",
              "0        0   1234 2013-10-08  ...  155.80             1720413.0          2688.94\n",
              "1        1   1233 2013-10-09  ...  155.55             2049580.0          3204.49\n",
              "2        2   1232 2013-10-10  ...  160.15             3124853.0          4978.80\n",
              "3        3   1231 2013-10-11  ...  160.05             1880046.0          3030.76\n",
              "4        4   1230 2013-10-14  ...  159.45             1281419.0          2039.09\n",
              "\n",
              "[5 rows x 10 columns]"
            ]
          },
          "metadata": {},
          "execution_count": 11
        }
      ]
    },
    {
      "cell_type": "code",
      "metadata": {
        "colab": {
          "base_uri": "https://localhost:8080/",
          "height": 283
        },
        "id": "ERVQllu5B9Xp",
        "outputId": "fa65850c-fe72-45fe-932b-d1a36824d801"
      },
      "source": [
        "plt.plot(df['Close'])"
      ],
      "execution_count": 12,
      "outputs": [
        {
          "output_type": "execute_result",
          "data": {
            "text/plain": [
              "[<matplotlib.lines.Line2D at 0x7ffb271cae10>]"
            ]
          },
          "metadata": {},
          "execution_count": 12
        },
        {
          "output_type": "display_data",
          "data": {
            "image/png": "[encoded data removed]",
            "text/plain": [
              "<Figure size 432x288 with 1 Axes>"
            ]
          },
          "metadata": {
            "needs_background": "light"
          }
        }
      ]
    },
    {
      "cell_type": "code",
      "metadata": {
        "id": "ql-bWrySCAR3"
      },
      "source": [
        "df1=df['Close']"
      ],
      "execution_count": 13,
      "outputs": []
    },
    {
      "cell_type": "code",
      "metadata": {
        "colab": {
          "base_uri": "https://localhost:8080/"
        },
        "id": "gyqANhvxCDS7",
        "outputId": "6f7f908d-a019-4e80-b398-733a6ca28a8c"
      },
      "source": [
        "scaler=MinMaxScaler(feature_range=(0,1))\n",
        "df1=scaler.fit_transform(np.array(df1).reshape(-1,1))\n",
        "df1"
      ],
      "execution_count": 14,
      "outputs": [
        {
          "output_type": "execute_result",
          "data": {
            "text/plain": [
              "array([[0.23823398],\n",
              "       [0.2371134 ],\n",
              "       [0.25773196],\n",
              "       ...,\n",
              "       [0.51792918],\n",
              "       [0.47758853],\n",
              "       [0.50425818]])"
            ]
          },
          "metadata": {},
          "execution_count": 14
        }
      ]
    },
    {
      "cell_type": "code",
      "metadata": {
        "id": "eUynpgQCCG5K"
      },
      "source": [
        "training_size=int(len(df1)*0.70)\n",
        "test_size=len(df1)-training_size\n",
        "train_data,test_data=df1[0:training_size,:],df1[training_size:len(df1),:1]"
      ],
      "execution_count": 15,
      "outputs": []
    },
    {
      "cell_type": "code",
      "metadata": {
        "colab": {
          "base_uri": "https://localhost:8080/"
        },
        "id": "tfJNNtoPCKEY",
        "outputId": "64d7b413-55f8-4ac1-c963-9ba72a58dc5c"
      },
      "source": [
        "training_size,test_size"
      ],
      "execution_count": 16,
      "outputs": [
        {
          "output_type": "execute_result",
          "data": {
            "text/plain": [
              "(864, 371)"
            ]
          },
          "metadata": {},
          "execution_count": 16
        }
      ]
    },
    {
      "cell_type": "code",
      "metadata": {
        "id": "kKK_gIC5CLJq"
      },
      "source": [
        "def create_dataset(dataset, time_step=1):\n",
        "\tdataX, dataY = [], []\n",
        "\tfor i in range(len(dataset)-time_step-1):\n",
        "\t\ta = dataset[i:(i+time_step), 0]   ###i=0, 0,1,2,3-----99   100 \n",
        "\t\tdataX.append(a)\n",
        "\t\tdataY.append(dataset[i + time_step, 0])\n",
        "\treturn np.array(dataX), np.array(dataY)"
      ],
      "execution_count": 17,
      "outputs": []
    },
    {
      "cell_type": "code",
      "metadata": {
        "id": "21W61fYLCQWG"
      },
      "source": [
        "time_step = 100\n",
        "X_train, y_train = create_dataset(train_data, time_step)\n",
        "X_test, ytest = create_dataset(test_data, time_step)"
      ],
      "execution_count": 18,
      "outputs": []
    },
    {
      "cell_type": "code",
      "metadata": {
        "colab": {
          "base_uri": "https://localhost:8080/"
        },
        "id": "kBA8zxvlCTdJ",
        "outputId": "9bf9473f-e034-49b1-aa95-93808ea9b91e"
      },
      "source": [
        "print(X_train.shape), print(y_train.shape)"
      ],
      "execution_count": 19,
      "outputs": [
        {
          "output_type": "stream",
          "name": "stdout",
          "text": [
            "(763, 100)\n",
            "(763,)\n"
          ]
        },
        {
          "output_type": "execute_result",
          "data": {
            "text/plain": [
              "(None, None)"
            ]
          },
          "metadata": {},
          "execution_count": 19
        }
      ]
    },
    {
      "cell_type": "code",
      "metadata": {
        "colab": {
          "base_uri": "https://localhost:8080/"
        },
        "id": "9Pj-6-BJCWSK",
        "outputId": "4c70cea5-1aac-4fe6-c068-29c665310b04"
      },
      "source": [
        "print(X_test.shape), print(ytest.shape)"
      ],
      "execution_count": 20,
      "outputs": [
        {
          "output_type": "stream",
          "name": "stdout",
          "text": [
            "(270, 100)\n",
            "(270,)\n"
          ]
        },
        {
          "output_type": "execute_result",
          "data": {
            "text/plain": [
              "(None, None)"
            ]
          },
          "metadata": {},
          "execution_count": 20
        }
      ]
    },
    {
      "cell_type": "code",
      "metadata": {
        "id": "NMfU6VFoCZOd"
      },
      "source": [
        "X_train =X_train.reshape(X_train.shape[0],X_train.shape[1] , 1)\n",
        "X_test = X_test.reshape(X_test.shape[0],X_test.shape[1] , 1)"
      ],
      "execution_count": 21,
      "outputs": []
    },
    {
      "cell_type": "code",
      "metadata": {
        "id": "OlWRJwvdCcLX"
      },
      "source": [
        "from tensorflow.keras.models import Sequential\n",
        "from tensorflow.keras.layers import Dense\n",
        "from tensorflow.keras.layers import LSTM"
      ],
      "execution_count": 22,
      "outputs": []
    },
    {
      "cell_type": "code",
      "metadata": {
        "colab": {
          "base_uri": "https://localhost:8080/"
        },
        "id": "SkojwJGICfQs",
        "outputId": "424f23a5-4df8-4269-91ce-988a257a7259"
      },
      "source": [
        "model=Sequential()\n",
        "model.add(LSTM(50,return_sequences=True,input_shape=(100,1)))\n",
        "model.add(LSTM(50,return_sequences=True))\n",
        "model.add(LSTM(50))\n",
        "model.add(Dense(1))\n",
        "model.compile(loss='mean_squared_error',optimizer='adam')\n",
        "model.summary()"
      ],
      "execution_count": 23,
      "outputs": [
        {
          "output_type": "stream",
          "name": "stdout",
          "text": [
            "Model: \"sequential\"\n",
            "_________________________________________________________________\n",
            " Layer (type)                Output Shape              Param #   \n",
            "=================================================================\n",
            " lstm (LSTM)                 (None, 100, 50)           10400     \n",
            "                                                                 \n",
            " lstm_1 (LSTM)               (None, 100, 50)           20200     \n",
            "                                                                 \n",
            " lstm_2 (LSTM)               (None, 50)                20200     \n",
            "                                                                 \n",
            " dense (Dense)               (None, 1)                 51        \n",
            "                                                                 \n",
            "=================================================================\n",
            "Total params: 50,851\n",
            "Trainable params: 50,851\n",
            "Non-trainable params: 0\n",
            "_________________________________________________________________\n"
          ]
        }
      ]
    },
    {
      "cell_type": "code",
      "metadata": {
        "colab": {
          "base_uri": "https://localhost:8080/"
        },
        "id": "hFQwKCnaCivJ",
        "outputId": "a3c02654-5b4c-4a70-8cca-c035437c275b"
      },
      "source": [
        "model.fit(X_train,y_train,validation_split=0.1,epochs=60,batch_size=64,verbose=1)"
      ],
      "execution_count": 24,
      "outputs": [
        {
          "output_type": "stream",
          "name": "stdout",
          "text": [
            "Epoch 1/60\n",
            "11/11 [==============================] - 8s 285ms/step - loss: 0.0099 - val_loss: 0.0014\n",
            "Epoch 2/60\n",
            "11/11 [==============================] - 2s 177ms/step - loss: 0.0027 - val_loss: 0.0014\n",
            "Epoch 3/60\n",
            "11/11 [==============================] - 2s 166ms/step - loss: 0.0021 - val_loss: 8.8479e-04\n",
            "Epoch 4/60\n",
            "11/11 [==============================] - 2s 170ms/step - loss: 0.0014 - val_loss: 6.7285e-04\n",
            "Epoch 5/60\n",
            "11/11 [==============================] - 2s 177ms/step - loss: 0.0011 - val_loss: 5.6218e-04\n",
            "Epoch 6/60\n",
            "11/11 [==============================] - 2s 170ms/step - loss: 0.0011 - val_loss: 6.1755e-04\n",
            "Epoch 7/60\n",
            "11/11 [==============================] - 2s 174ms/step - loss: 9.9801e-04 - val_loss: 6.3086e-04\n",
            "Epoch 8/60\n",
            "11/11 [==============================] - 2s 166ms/step - loss: 9.5277e-04 - val_loss: 6.1276e-04\n",
            "Epoch 9/60\n",
            "11/11 [==============================] - 2s 163ms/step - loss: 9.4064e-04 - val_loss: 5.3405e-04\n",
            "Epoch 10/60\n",
            "11/11 [==============================] - 2s 166ms/step - loss: 9.1319e-04 - val_loss: 7.1530e-04\n",
            "Epoch 11/60\n",
            "11/11 [==============================] - 2s 175ms/step - loss: 8.7955e-04 - val_loss: 5.8797e-04\n",
            "Epoch 12/60\n",
            "11/11 [==============================] - 2s 168ms/step - loss: 8.1981e-04 - val_loss: 5.6094e-04\n",
            "Epoch 13/60\n",
            "11/11 [==============================] - 2s 160ms/step - loss: 7.9784e-04 - val_loss: 5.6575e-04\n",
            "Epoch 14/60\n",
            "11/11 [==============================] - 2s 157ms/step - loss: 8.5089e-04 - val_loss: 3.9147e-04\n",
            "Epoch 15/60\n",
            "11/11 [==============================] - 2s 163ms/step - loss: 8.0545e-04 - val_loss: 3.9410e-04\n",
            "Epoch 16/60\n",
            "11/11 [==============================] - 2s 173ms/step - loss: 7.1815e-04 - val_loss: 5.0149e-04\n",
            "Epoch 17/60\n",
            "11/11 [==============================] - 2s 164ms/step - loss: 7.0374e-04 - val_loss: 4.7032e-04\n",
            "Epoch 18/60\n",
            "11/11 [==============================] - 2s 162ms/step - loss: 7.7380e-04 - val_loss: 3.6005e-04\n",
            "Epoch 19/60\n",
            "11/11 [==============================] - 2s 164ms/step - loss: 7.1871e-04 - val_loss: 3.9380e-04\n",
            "Epoch 20/60\n",
            "11/11 [==============================] - 2s 161ms/step - loss: 6.3903e-04 - val_loss: 4.8664e-04\n",
            "Epoch 21/60\n",
            "11/11 [==============================] - 2s 160ms/step - loss: 6.2467e-04 - val_loss: 4.9960e-04\n",
            "Epoch 22/60\n",
            "11/11 [==============================] - 2s 160ms/step - loss: 5.9653e-04 - val_loss: 3.6498e-04\n",
            "Epoch 23/60\n",
            "11/11 [==============================] - 2s 167ms/step - loss: 5.8391e-04 - val_loss: 3.9629e-04\n",
            "Epoch 24/60\n",
            "11/11 [==============================] - 2s 170ms/step - loss: 5.7217e-04 - val_loss: 3.6321e-04\n",
            "Epoch 25/60\n",
            "11/11 [==============================] - 2s 165ms/step - loss: 5.9628e-04 - val_loss: 3.1952e-04\n",
            "Epoch 26/60\n",
            "11/11 [==============================] - 2s 161ms/step - loss: 5.5644e-04 - val_loss: 4.5377e-04\n",
            "Epoch 27/60\n",
            "11/11 [==============================] - 2s 167ms/step - loss: 5.3331e-04 - val_loss: 3.6097e-04\n",
            "Epoch 28/60\n",
            "11/11 [==============================] - 2s 167ms/step - loss: 5.2628e-04 - val_loss: 3.7444e-04\n",
            "Epoch 29/60\n",
            "11/11 [==============================] - 2s 172ms/step - loss: 5.0688e-04 - val_loss: 3.5303e-04\n",
            "Epoch 30/60\n",
            "11/11 [==============================] - 2s 166ms/step - loss: 5.0694e-04 - val_loss: 3.3612e-04\n",
            "Epoch 31/60\n",
            "11/11 [==============================] - 2s 169ms/step - loss: 4.9797e-04 - val_loss: 3.4867e-04\n",
            "Epoch 32/60\n",
            "11/11 [==============================] - 2s 179ms/step - loss: 4.8791e-04 - val_loss: 3.6912e-04\n",
            "Epoch 33/60\n",
            "11/11 [==============================] - 2s 167ms/step - loss: 4.7582e-04 - val_loss: 3.3040e-04\n",
            "Epoch 34/60\n",
            "11/11 [==============================] - 2s 174ms/step - loss: 4.6635e-04 - val_loss: 4.2580e-04\n",
            "Epoch 35/60\n",
            "11/11 [==============================] - 2s 172ms/step - loss: 4.6436e-04 - val_loss: 3.5010e-04\n",
            "Epoch 36/60\n",
            "11/11 [==============================] - 2s 167ms/step - loss: 4.6047e-04 - val_loss: 3.8977e-04\n",
            "Epoch 37/60\n",
            "11/11 [==============================] - 2s 172ms/step - loss: 4.4910e-04 - val_loss: 3.2275e-04\n",
            "Epoch 38/60\n",
            "11/11 [==============================] - 2s 161ms/step - loss: 4.5366e-04 - val_loss: 3.7902e-04\n",
            "Epoch 39/60\n",
            "11/11 [==============================] - 2s 172ms/step - loss: 4.8834e-04 - val_loss: 3.1359e-04\n",
            "Epoch 40/60\n",
            "11/11 [==============================] - 2s 175ms/step - loss: 4.4797e-04 - val_loss: 2.8808e-04\n",
            "Epoch 41/60\n",
            "11/11 [==============================] - 2s 159ms/step - loss: 4.4202e-04 - val_loss: 2.6085e-04\n",
            "Epoch 42/60\n",
            "11/11 [==============================] - 2s 167ms/step - loss: 4.2861e-04 - val_loss: 3.5432e-04\n",
            "Epoch 43/60\n",
            "11/11 [==============================] - 2s 159ms/step - loss: 4.2479e-04 - val_loss: 2.5700e-04\n",
            "Epoch 44/60\n",
            "11/11 [==============================] - 2s 162ms/step - loss: 4.1952e-04 - val_loss: 3.0011e-04\n",
            "Epoch 45/60\n",
            "11/11 [==============================] - 2s 182ms/step - loss: 4.0209e-04 - val_loss: 2.4316e-04\n",
            "Epoch 46/60\n",
            "11/11 [==============================] - 2s 180ms/step - loss: 3.8723e-04 - val_loss: 2.5673e-04\n",
            "Epoch 47/60\n",
            "11/11 [==============================] - 2s 168ms/step - loss: 3.9529e-04 - val_loss: 2.5713e-04\n",
            "Epoch 48/60\n",
            "11/11 [==============================] - 2s 168ms/step - loss: 3.8192e-04 - val_loss: 3.3672e-04\n",
            "Epoch 49/60\n",
            "11/11 [==============================] - 2s 160ms/step - loss: 3.8057e-04 - val_loss: 2.3593e-04\n",
            "Epoch 50/60\n",
            "11/11 [==============================] - 2s 164ms/step - loss: 3.6747e-04 - val_loss: 2.3791e-04\n",
            "Epoch 51/60\n",
            "11/11 [==============================] - 2s 162ms/step - loss: 3.6874e-04 - val_loss: 2.6108e-04\n",
            "Epoch 52/60\n",
            "11/11 [==============================] - 2s 163ms/step - loss: 3.5538e-04 - val_loss: 2.3010e-04\n",
            "Epoch 53/60\n",
            "11/11 [==============================] - 2s 168ms/step - loss: 3.4166e-04 - val_loss: 2.3516e-04\n",
            "Epoch 54/60\n",
            "11/11 [==============================] - 2s 163ms/step - loss: 3.4014e-04 - val_loss: 2.3499e-04\n",
            "Epoch 55/60\n",
            "11/11 [==============================] - 2s 166ms/step - loss: 3.3579e-04 - val_loss: 3.1260e-04\n",
            "Epoch 56/60\n",
            "11/11 [==============================] - 2s 176ms/step - loss: 3.3926e-04 - val_loss: 2.0066e-04\n",
            "Epoch 57/60\n",
            "11/11 [==============================] - 2s 168ms/step - loss: 3.3621e-04 - val_loss: 2.8305e-04\n",
            "Epoch 58/60\n",
            "11/11 [==============================] - 2s 161ms/step - loss: 3.2557e-04 - val_loss: 1.9999e-04\n",
            "Epoch 59/60\n",
            "11/11 [==============================] - 2s 171ms/step - loss: 3.3160e-04 - val_loss: 1.9039e-04\n",
            "Epoch 60/60\n",
            "11/11 [==============================] - 2s 167ms/step - loss: 3.0914e-04 - val_loss: 1.9291e-04\n"
          ]
        },
        {
          "output_type": "execute_result",
          "data": {
            "text/plain": [
              "<keras.callbacks.History at 0x7ffabf972dd0>"
            ]
          },
          "metadata": {},
          "execution_count": 24
        }
      ]
    },
    {
      "cell_type": "code",
      "metadata": {
        "id": "uVZLeMx3CmFO"
      },
      "source": [
        "test_predict=model.predict(X_test)"
      ],
      "execution_count": 25,
      "outputs": []
    },
    {
      "cell_type": "code",
      "metadata": {
        "id": "robuCITGCr-l"
      },
      "source": [
        "test_predict1=scaler.inverse_transform(test_predict)"
      ],
      "execution_count": 26,
      "outputs": []
    },
    {
      "cell_type": "code",
      "metadata": {
        "colab": {
          "base_uri": "https://localhost:8080/"
        },
        "id": "XT2DKeJjCuwB",
        "outputId": "c61763ac-4120-4bc4-ee7c-d49f0a293c0e"
      },
      "source": [
        "test_predict1"
      ],
      "execution_count": 27,
      "outputs": [
        {
          "output_type": "execute_result",
          "data": {
            "text/plain": [
              "array([[192.03337],\n",
              "       [192.63364],\n",
              "       [195.6597 ],\n",
              "       [199.28423],\n",
              "       [202.43707],\n",
              "       [205.00543],\n",
              "       [207.24011],\n",
              "       [207.28984],\n",
              "       [207.36092],\n",
              "       [207.045  ],\n",
              "       [207.34776],\n",
              "       [208.72198],\n",
              "       [209.54851],\n",
              "       [209.40468],\n",
              "       [205.76656],\n",
              "       [200.31366],\n",
              "       [198.01067],\n",
              "       [196.64134],\n",
              "       [197.451  ],\n",
              "       [200.04929],\n",
              "       [203.094  ],\n",
              "       [205.09062],\n",
              "       [207.16241],\n",
              "       [208.71587],\n",
              "       [209.08138],\n",
              "       [208.65683],\n",
              "       [208.15315],\n",
              "       [208.44255],\n",
              "       [208.5328 ],\n",
              "       [208.25209],\n",
              "       [208.06291],\n",
              "       [207.03316],\n",
              "       [205.29347],\n",
              "       [203.37839],\n",
              "       [203.85309],\n",
              "       [204.34256],\n",
              "       [205.91379],\n",
              "       [210.6412 ],\n",
              "       [217.42523],\n",
              "       [223.0831 ],\n",
              "       [226.36261],\n",
              "       [226.70769],\n",
              "       [224.93214],\n",
              "       [225.36504],\n",
              "       [223.70862],\n",
              "       [221.31041],\n",
              "       [224.30202],\n",
              "       [227.70494],\n",
              "       [229.57262],\n",
              "       [233.97781],\n",
              "       [239.449  ],\n",
              "       [243.70728],\n",
              "       [248.2929 ],\n",
              "       [256.1164 ],\n",
              "       [261.51587],\n",
              "       [263.64648],\n",
              "       [263.40234],\n",
              "       [263.29538],\n",
              "       [262.64703],\n",
              "       [265.7037 ],\n",
              "       [266.36447],\n",
              "       [268.55087],\n",
              "       [269.33688],\n",
              "       [267.8899 ],\n",
              "       [266.8212 ],\n",
              "       [264.82175],\n",
              "       [267.0018 ],\n",
              "       [271.8133 ],\n",
              "       [279.54462],\n",
              "       [281.30328],\n",
              "       [278.8752 ],\n",
              "       [275.7225 ],\n",
              "       [274.4919 ],\n",
              "       [276.04147],\n",
              "       [281.77667],\n",
              "       [286.7769 ],\n",
              "       [289.14935],\n",
              "       [290.40164],\n",
              "       [291.66406],\n",
              "       [291.99347],\n",
              "       [292.1315 ],\n",
              "       [295.81485],\n",
              "       [297.6498 ],\n",
              "       [297.44894],\n",
              "       [296.68118],\n",
              "       [296.5024 ],\n",
              "       [296.9921 ],\n",
              "       [299.48108],\n",
              "       [300.77774],\n",
              "       [300.83044],\n",
              "       [300.2408 ],\n",
              "       [304.624  ],\n",
              "       [307.49478],\n",
              "       [306.09906],\n",
              "       [302.85504],\n",
              "       [297.29718],\n",
              "       [294.88553],\n",
              "       [295.07672],\n",
              "       [295.8778 ],\n",
              "       [295.84012],\n",
              "       [295.87686],\n",
              "       [295.1415 ],\n",
              "       [295.45776],\n",
              "       [290.86212],\n",
              "       [285.9804 ],\n",
              "       [278.09372],\n",
              "       [272.33487],\n",
              "       [267.78384],\n",
              "       [271.12646],\n",
              "       [276.39325],\n",
              "       [279.63858],\n",
              "       [283.28595],\n",
              "       [283.99283],\n",
              "       [281.7645 ],\n",
              "       [277.6028 ],\n",
              "       [271.26462],\n",
              "       [264.7503 ],\n",
              "       [262.27625],\n",
              "       [260.92224],\n",
              "       [263.93478],\n",
              "       [268.62225],\n",
              "       [272.6768 ],\n",
              "       [274.88266],\n",
              "       [274.91003],\n",
              "       [273.9584 ],\n",
              "       [272.06973],\n",
              "       [268.40317],\n",
              "       [267.052  ],\n",
              "       [265.2658 ],\n",
              "       [266.92633],\n",
              "       [270.0864 ],\n",
              "       [272.69855],\n",
              "       [274.3927 ],\n",
              "       [272.2736 ],\n",
              "       [265.17993],\n",
              "       [259.61066],\n",
              "       [257.37427],\n",
              "       [256.03195],\n",
              "       [255.59361],\n",
              "       [257.50455],\n",
              "       [260.34653],\n",
              "       [260.73016],\n",
              "       [266.35016],\n",
              "       [270.82834],\n",
              "       [271.10147],\n",
              "       [270.18066],\n",
              "       [268.61957],\n",
              "       [268.94855],\n",
              "       [268.83353],\n",
              "       [267.92303],\n",
              "       [267.07434],\n",
              "       [267.23642],\n",
              "       [269.30267],\n",
              "       [271.7973 ],\n",
              "       [274.6178 ],\n",
              "       [277.10934],\n",
              "       [278.34354],\n",
              "       [277.42508],\n",
              "       [275.777  ],\n",
              "       [276.65054],\n",
              "       [278.82108],\n",
              "       [280.92383],\n",
              "       [284.156  ],\n",
              "       [284.54382],\n",
              "       [281.41547],\n",
              "       [278.77164],\n",
              "       [279.84845],\n",
              "       [280.2337 ],\n",
              "       [281.3369 ],\n",
              "       [279.85114],\n",
              "       [279.11148],\n",
              "       [267.31375],\n",
              "       [252.21823],\n",
              "       [242.09654],\n",
              "       [240.78435],\n",
              "       [243.17398],\n",
              "       [246.4196 ],\n",
              "       [250.43617],\n",
              "       [254.40073],\n",
              "       [258.13345],\n",
              "       [261.09067],\n",
              "       [262.98328],\n",
              "       [261.96497],\n",
              "       [261.92538],\n",
              "       [263.38626],\n",
              "       [262.35156],\n",
              "       [257.60852],\n",
              "       [256.05087],\n",
              "       [257.04282],\n",
              "       [259.21295],\n",
              "       [261.05   ],\n",
              "       [260.94293],\n",
              "       [261.49023],\n",
              "       [262.75208],\n",
              "       [266.65503],\n",
              "       [267.92377],\n",
              "       [268.67676],\n",
              "       [265.78192],\n",
              "       [260.34964],\n",
              "       [255.22316],\n",
              "       [253.82924],\n",
              "       [255.59203],\n",
              "       [259.23898],\n",
              "       [261.8114 ],\n",
              "       [262.45026],\n",
              "       [263.9326 ],\n",
              "       [263.271  ],\n",
              "       [267.7522 ],\n",
              "       [270.90622],\n",
              "       [269.87286],\n",
              "       [265.6373 ],\n",
              "       [264.9251 ],\n",
              "       [265.59323],\n",
              "       [264.81415],\n",
              "       [262.2912 ],\n",
              "       [258.03784],\n",
              "       [249.54019],\n",
              "       [244.76001],\n",
              "       [240.52272],\n",
              "       [236.73424],\n",
              "       [236.84271],\n",
              "       [240.45636],\n",
              "       [245.4459 ],\n",
              "       [246.10303],\n",
              "       [245.21812],\n",
              "       [244.79112],\n",
              "       [244.41049],\n",
              "       [245.444  ],\n",
              "       [242.75348],\n",
              "       [239.13672],\n",
              "       [236.07022],\n",
              "       [235.87987],\n",
              "       [236.42844],\n",
              "       [236.71405],\n",
              "       [237.10474],\n",
              "       [236.19319],\n",
              "       [235.30894],\n",
              "       [235.687  ],\n",
              "       [237.0333 ],\n",
              "       [239.43967],\n",
              "       [242.06026],\n",
              "       [242.18492],\n",
              "       [239.31544],\n",
              "       [234.59723],\n",
              "       [232.65678],\n",
              "       [231.5127 ],\n",
              "       [231.57219],\n",
              "       [232.728  ],\n",
              "       [233.51787],\n",
              "       [234.66841],\n",
              "       [231.46509],\n",
              "       [226.98657],\n",
              "       [223.14223],\n",
              "       [221.57059],\n",
              "       [221.38982],\n",
              "       [220.17294],\n",
              "       [220.93654],\n",
              "       [225.91591],\n",
              "       [232.07529],\n",
              "       [236.04277],\n",
              "       [237.28026],\n",
              "       [236.41473],\n",
              "       [234.17113],\n",
              "       [232.7218 ],\n",
              "       [231.42693],\n",
              "       [230.26845],\n",
              "       [229.75871],\n",
              "       [228.90665],\n",
              "       [227.25777],\n",
              "       [223.02985]], dtype=float32)"
            ]
          },
          "metadata": {},
          "execution_count": 27
        }
      ]
    },
    {
      "cell_type": "code",
      "metadata": {
        "colab": {
          "base_uri": "https://localhost:8080/"
        },
        "id": "Bb65wtPODFiI",
        "outputId": "8e580768-54e0-49b4-e18a-4394d460658e"
      },
      "source": [
        "import math\n",
        "from sklearn.metrics import mean_squared_error\n",
        "math.sqrt(mean_squared_error(ytest,test_predict))"
      ],
      "execution_count": 28,
      "outputs": [
        {
          "output_type": "execute_result",
          "data": {
            "text/plain": [
              "0.04315154929702199"
            ]
          },
          "metadata": {},
          "execution_count": 28
        }
      ]
    }
  ]
}