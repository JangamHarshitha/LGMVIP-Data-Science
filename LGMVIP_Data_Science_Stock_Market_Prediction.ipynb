{
  "nbformat": 4,
  "nbformat_minor": 0,
  "metadata": {
    "colab": {
      "name": "LGMVIP-Data Science Stock_Market_Prediction",
      "provenance": []
    },
    "kernelspec": {
      "name": "python3",
      "display_name": "Python 3"
    },
    "language_info": {
      "name": "python"
    }
  },
  "cells": [
    {
      "cell_type": "code",
      "metadata": {
        "id": "JgvLbnrDBFqW"
      },
      "source": [
        "import pandas as pd\n",
        "import matplotlib.pyplot as plt\n",
        "import numpy as np\n",
        "from sklearn.preprocessing import MinMaxScaler"
      ],
      "execution_count": 1,
      "outputs": []
    },
    {
      "cell_type": "code",
      "metadata": {
        "id": "sUExSYqpBjnM"
      },
      "source": [
        "data = pd.read_csv('NSE.csv')"
      ],
      "execution_count": 2,
      "outputs": []
    },
    {
      "cell_type": "code",
      "metadata": {
        "colab": {
          "base_uri": "https://localhost:8080/",
          "height": 206
        },
        "id": "Mx24qS8wBnwC",
        "outputId": "30835955-1185-4f53-c895-1bf3fac6faf5"
      },
      "source": [
        "data.head()"
      ],
      "execution_count": 3,
      "outputs": [
        {
          "output_type": "execute_result",
          "data": {
            "text/html": [
              "<div>\n",
              "<style scoped>\n",
              "    .dataframe tbody tr th:only-of-type {\n",
              "        vertical-align: middle;\n",
              "    }\n",
              "\n",
              "    .dataframe tbody tr th {\n",
              "        vertical-align: top;\n",
              "    }\n",
              "\n",
              "    .dataframe thead th {\n",
              "        text-align: right;\n",
              "    }\n",
              "</style>\n",
              "<table border=\"1\" class=\"dataframe\">\n",
              "  <thead>\n",
              "    <tr style=\"text-align: right;\">\n",
              "      <th></th>\n",
              "      <th>Date</th>\n",
              "      <th>Open</th>\n",
              "      <th>High</th>\n",
              "      <th>Low</th>\n",
              "      <th>Last</th>\n",
              "      <th>Close</th>\n",
              "      <th>Total Trade Quantity</th>\n",
              "      <th>Turnover (Lacs)</th>\n",
              "    </tr>\n",
              "  </thead>\n",
              "  <tbody>\n",
              "    <tr>\n",
              "      <th>0</th>\n",
              "      <td>2018-10-08</td>\n",
              "      <td>208.00</td>\n",
              "      <td>222.25</td>\n",
              "      <td>206.85</td>\n",
              "      <td>216.00</td>\n",
              "      <td>215.15</td>\n",
              "      <td>4642146.0</td>\n",
              "      <td>10062.83</td>\n",
              "    </tr>\n",
              "    <tr>\n",
              "      <th>1</th>\n",
              "      <td>2018-10-05</td>\n",
              "      <td>217.00</td>\n",
              "      <td>218.60</td>\n",
              "      <td>205.90</td>\n",
              "      <td>210.25</td>\n",
              "      <td>209.20</td>\n",
              "      <td>3519515.0</td>\n",
              "      <td>7407.06</td>\n",
              "    </tr>\n",
              "    <tr>\n",
              "      <th>2</th>\n",
              "      <td>2018-10-04</td>\n",
              "      <td>223.50</td>\n",
              "      <td>227.80</td>\n",
              "      <td>216.15</td>\n",
              "      <td>217.25</td>\n",
              "      <td>218.20</td>\n",
              "      <td>1728786.0</td>\n",
              "      <td>3815.79</td>\n",
              "    </tr>\n",
              "    <tr>\n",
              "      <th>3</th>\n",
              "      <td>2018-10-03</td>\n",
              "      <td>230.00</td>\n",
              "      <td>237.50</td>\n",
              "      <td>225.75</td>\n",
              "      <td>226.45</td>\n",
              "      <td>227.60</td>\n",
              "      <td>1708590.0</td>\n",
              "      <td>3960.27</td>\n",
              "    </tr>\n",
              "    <tr>\n",
              "      <th>4</th>\n",
              "      <td>2018-10-01</td>\n",
              "      <td>234.55</td>\n",
              "      <td>234.60</td>\n",
              "      <td>221.05</td>\n",
              "      <td>230.30</td>\n",
              "      <td>230.90</td>\n",
              "      <td>1534749.0</td>\n",
              "      <td>3486.05</td>\n",
              "    </tr>\n",
              "  </tbody>\n",
              "</table>\n",
              "</div>"
            ],
            "text/plain": [
              "         Date    Open    High  ...   Close  Total Trade Quantity  Turnover (Lacs)\n",
              "0  2018-10-08  208.00  222.25  ...  215.15             4642146.0         10062.83\n",
              "1  2018-10-05  217.00  218.60  ...  209.20             3519515.0          7407.06\n",
              "2  2018-10-04  223.50  227.80  ...  218.20             1728786.0          3815.79\n",
              "3  2018-10-03  230.00  237.50  ...  227.60             1708590.0          3960.27\n",
              "4  2018-10-01  234.55  234.60  ...  230.90             1534749.0          3486.05\n",
              "\n",
              "[5 rows x 8 columns]"
            ]
          },
          "metadata": {},
          "execution_count": 3
        }
      ]
    },
    {
      "cell_type": "code",
      "metadata": {
        "colab": {
          "base_uri": "https://localhost:8080/",
          "height": 206
        },
        "id": "HcCRw3O9BszB",
        "outputId": "cb28e454-3dd5-4ad6-eee4-7afd2139d4f3"
      },
      "source": [
        "data.tail()"
      ],
      "execution_count": 4,
      "outputs": [
        {
          "output_type": "execute_result",
          "data": {
            "text/html": [
              "<div>\n",
              "<style scoped>\n",
              "    .dataframe tbody tr th:only-of-type {\n",
              "        vertical-align: middle;\n",
              "    }\n",
              "\n",
              "    .dataframe tbody tr th {\n",
              "        vertical-align: top;\n",
              "    }\n",
              "\n",
              "    .dataframe thead th {\n",
              "        text-align: right;\n",
              "    }\n",
              "</style>\n",
              "<table border=\"1\" class=\"dataframe\">\n",
              "  <thead>\n",
              "    <tr style=\"text-align: right;\">\n",
              "      <th></th>\n",
              "      <th>Date</th>\n",
              "      <th>Open</th>\n",
              "      <th>High</th>\n",
              "      <th>Low</th>\n",
              "      <th>Last</th>\n",
              "      <th>Close</th>\n",
              "      <th>Total Trade Quantity</th>\n",
              "      <th>Turnover (Lacs)</th>\n",
              "    </tr>\n",
              "  </thead>\n",
              "  <tbody>\n",
              "    <tr>\n",
              "      <th>1230</th>\n",
              "      <td>2013-10-14</td>\n",
              "      <td>160.85</td>\n",
              "      <td>161.45</td>\n",
              "      <td>157.70</td>\n",
              "      <td>159.3</td>\n",
              "      <td>159.45</td>\n",
              "      <td>1281419.0</td>\n",
              "      <td>2039.09</td>\n",
              "    </tr>\n",
              "    <tr>\n",
              "      <th>1231</th>\n",
              "      <td>2013-10-11</td>\n",
              "      <td>161.15</td>\n",
              "      <td>163.45</td>\n",
              "      <td>159.00</td>\n",
              "      <td>159.8</td>\n",
              "      <td>160.05</td>\n",
              "      <td>1880046.0</td>\n",
              "      <td>3030.76</td>\n",
              "    </tr>\n",
              "    <tr>\n",
              "      <th>1232</th>\n",
              "      <td>2013-10-10</td>\n",
              "      <td>156.00</td>\n",
              "      <td>160.80</td>\n",
              "      <td>155.85</td>\n",
              "      <td>160.3</td>\n",
              "      <td>160.15</td>\n",
              "      <td>3124853.0</td>\n",
              "      <td>4978.80</td>\n",
              "    </tr>\n",
              "    <tr>\n",
              "      <th>1233</th>\n",
              "      <td>2013-10-09</td>\n",
              "      <td>155.70</td>\n",
              "      <td>158.20</td>\n",
              "      <td>154.15</td>\n",
              "      <td>155.3</td>\n",
              "      <td>155.55</td>\n",
              "      <td>2049580.0</td>\n",
              "      <td>3204.49</td>\n",
              "    </tr>\n",
              "    <tr>\n",
              "      <th>1234</th>\n",
              "      <td>2013-10-08</td>\n",
              "      <td>157.00</td>\n",
              "      <td>157.80</td>\n",
              "      <td>155.20</td>\n",
              "      <td>155.8</td>\n",
              "      <td>155.80</td>\n",
              "      <td>1720413.0</td>\n",
              "      <td>2688.94</td>\n",
              "    </tr>\n",
              "  </tbody>\n",
              "</table>\n",
              "</div>"
            ],
            "text/plain": [
              "            Date    Open    High  ...   Close  Total Trade Quantity  Turnover (Lacs)\n",
              "1230  2013-10-14  160.85  161.45  ...  159.45             1281419.0          2039.09\n",
              "1231  2013-10-11  161.15  163.45  ...  160.05             1880046.0          3030.76\n",
              "1232  2013-10-10  156.00  160.80  ...  160.15             3124853.0          4978.80\n",
              "1233  2013-10-09  155.70  158.20  ...  155.55             2049580.0          3204.49\n",
              "1234  2013-10-08  157.00  157.80  ...  155.80             1720413.0          2688.94\n",
              "\n",
              "[5 rows x 8 columns]"
            ]
          },
          "metadata": {},
          "execution_count": 4
        }
      ]
    },
    {
      "cell_type": "code",
      "metadata": {
        "colab": {
          "base_uri": "https://localhost:8080/"
        },
        "id": "hSi0bXTRBvlp",
        "outputId": "b02c06dc-8ec2-47f5-8d43-af4d1c3116d6"
      },
      "source": [
        "data['Date']=pd.to_datetime(data['Date'])\n",
        "print(type(data.Date[0]))"
      ],
      "execution_count": 5,
      "outputs": [
        {
          "output_type": "stream",
          "name": "stdout",
          "text": [
            "<class 'pandas._libs.tslibs.timestamps.Timestamp'>\n"
          ]
        }
      ]
    },
    {
      "cell_type": "code",
      "metadata": {
        "colab": {
          "base_uri": "https://localhost:8080/",
          "height": 206
        },
        "id": "qUzYimhtByej",
        "outputId": "eb3a1973-3bf5-4eaa-a53d-452cda5dc7cf"
      },
      "source": [
        "df=data.sort_values(by='Date')\n",
        "df.head()"
      ],
      "execution_count": 6,
      "outputs": [
        {
          "output_type": "execute_result",
          "data": {
            "text/html": [
              "<div>\n",
              "<style scoped>\n",
              "    .dataframe tbody tr th:only-of-type {\n",
              "        vertical-align: middle;\n",
              "    }\n",
              "\n",
              "    .dataframe tbody tr th {\n",
              "        vertical-align: top;\n",
              "    }\n",
              "\n",
              "    .dataframe thead th {\n",
              "        text-align: right;\n",
              "    }\n",
              "</style>\n",
              "<table border=\"1\" class=\"dataframe\">\n",
              "  <thead>\n",
              "    <tr style=\"text-align: right;\">\n",
              "      <th></th>\n",
              "      <th>Date</th>\n",
              "      <th>Open</th>\n",
              "      <th>High</th>\n",
              "      <th>Low</th>\n",
              "      <th>Last</th>\n",
              "      <th>Close</th>\n",
              "      <th>Total Trade Quantity</th>\n",
              "      <th>Turnover (Lacs)</th>\n",
              "    </tr>\n",
              "  </thead>\n",
              "  <tbody>\n",
              "    <tr>\n",
              "      <th>1234</th>\n",
              "      <td>2013-10-08</td>\n",
              "      <td>157.00</td>\n",
              "      <td>157.80</td>\n",
              "      <td>155.20</td>\n",
              "      <td>155.8</td>\n",
              "      <td>155.80</td>\n",
              "      <td>1720413.0</td>\n",
              "      <td>2688.94</td>\n",
              "    </tr>\n",
              "    <tr>\n",
              "      <th>1233</th>\n",
              "      <td>2013-10-09</td>\n",
              "      <td>155.70</td>\n",
              "      <td>158.20</td>\n",
              "      <td>154.15</td>\n",
              "      <td>155.3</td>\n",
              "      <td>155.55</td>\n",
              "      <td>2049580.0</td>\n",
              "      <td>3204.49</td>\n",
              "    </tr>\n",
              "    <tr>\n",
              "      <th>1232</th>\n",
              "      <td>2013-10-10</td>\n",
              "      <td>156.00</td>\n",
              "      <td>160.80</td>\n",
              "      <td>155.85</td>\n",
              "      <td>160.3</td>\n",
              "      <td>160.15</td>\n",
              "      <td>3124853.0</td>\n",
              "      <td>4978.80</td>\n",
              "    </tr>\n",
              "    <tr>\n",
              "      <th>1231</th>\n",
              "      <td>2013-10-11</td>\n",
              "      <td>161.15</td>\n",
              "      <td>163.45</td>\n",
              "      <td>159.00</td>\n",
              "      <td>159.8</td>\n",
              "      <td>160.05</td>\n",
              "      <td>1880046.0</td>\n",
              "      <td>3030.76</td>\n",
              "    </tr>\n",
              "    <tr>\n",
              "      <th>1230</th>\n",
              "      <td>2013-10-14</td>\n",
              "      <td>160.85</td>\n",
              "      <td>161.45</td>\n",
              "      <td>157.70</td>\n",
              "      <td>159.3</td>\n",
              "      <td>159.45</td>\n",
              "      <td>1281419.0</td>\n",
              "      <td>2039.09</td>\n",
              "    </tr>\n",
              "  </tbody>\n",
              "</table>\n",
              "</div>"
            ],
            "text/plain": [
              "           Date    Open    High  ...   Close  Total Trade Quantity  Turnover (Lacs)\n",
              "1234 2013-10-08  157.00  157.80  ...  155.80             1720413.0          2688.94\n",
              "1233 2013-10-09  155.70  158.20  ...  155.55             2049580.0          3204.49\n",
              "1232 2013-10-10  156.00  160.80  ...  160.15             3124853.0          4978.80\n",
              "1231 2013-10-11  161.15  163.45  ...  160.05             1880046.0          3030.76\n",
              "1230 2013-10-14  160.85  161.45  ...  159.45             1281419.0          2039.09\n",
              "\n",
              "[5 rows x 8 columns]"
            ]
          },
          "metadata": {},
          "execution_count": 6
        }
      ]
    },
    {
      "cell_type": "code",
      "metadata": {
        "id": "tNwGRfmuB1Pe"
      },
      "source": [
        "df.reset_index(inplace=True)"
      ],
      "execution_count": 7,
      "outputs": []
    },
    {
      "cell_type": "code",
      "metadata": {
        "colab": {
          "base_uri": "https://localhost:8080/",
          "height": 206
        },
        "id": "09ZIiAxoB3-a",
        "outputId": "e073f225-2083-4092-8ae7-c95dda8d44fb"
      },
      "source": [
        "df.head()"
      ],
      "execution_count": 8,
      "outputs": [
        {
          "output_type": "execute_result",
          "data": {
            "text/html": [
              "<div>\n",
              "<style scoped>\n",
              "    .dataframe tbody tr th:only-of-type {\n",
              "        vertical-align: middle;\n",
              "    }\n",
              "\n",
              "    .dataframe tbody tr th {\n",
              "        vertical-align: top;\n",
              "    }\n",
              "\n",
              "    .dataframe thead th {\n",
              "        text-align: right;\n",
              "    }\n",
              "</style>\n",
              "<table border=\"1\" class=\"dataframe\">\n",
              "  <thead>\n",
              "    <tr style=\"text-align: right;\">\n",
              "      <th></th>\n",
              "      <th>index</th>\n",
              "      <th>Date</th>\n",
              "      <th>Open</th>\n",
              "      <th>High</th>\n",
              "      <th>Low</th>\n",
              "      <th>Last</th>\n",
              "      <th>Close</th>\n",
              "      <th>Total Trade Quantity</th>\n",
              "      <th>Turnover (Lacs)</th>\n",
              "    </tr>\n",
              "  </thead>\n",
              "  <tbody>\n",
              "    <tr>\n",
              "      <th>0</th>\n",
              "      <td>1234</td>\n",
              "      <td>2013-10-08</td>\n",
              "      <td>157.00</td>\n",
              "      <td>157.80</td>\n",
              "      <td>155.20</td>\n",
              "      <td>155.8</td>\n",
              "      <td>155.80</td>\n",
              "      <td>1720413.0</td>\n",
              "      <td>2688.94</td>\n",
              "    </tr>\n",
              "    <tr>\n",
              "      <th>1</th>\n",
              "      <td>1233</td>\n",
              "      <td>2013-10-09</td>\n",
              "      <td>155.70</td>\n",
              "      <td>158.20</td>\n",
              "      <td>154.15</td>\n",
              "      <td>155.3</td>\n",
              "      <td>155.55</td>\n",
              "      <td>2049580.0</td>\n",
              "      <td>3204.49</td>\n",
              "    </tr>\n",
              "    <tr>\n",
              "      <th>2</th>\n",
              "      <td>1232</td>\n",
              "      <td>2013-10-10</td>\n",
              "      <td>156.00</td>\n",
              "      <td>160.80</td>\n",
              "      <td>155.85</td>\n",
              "      <td>160.3</td>\n",
              "      <td>160.15</td>\n",
              "      <td>3124853.0</td>\n",
              "      <td>4978.80</td>\n",
              "    </tr>\n",
              "    <tr>\n",
              "      <th>3</th>\n",
              "      <td>1231</td>\n",
              "      <td>2013-10-11</td>\n",
              "      <td>161.15</td>\n",
              "      <td>163.45</td>\n",
              "      <td>159.00</td>\n",
              "      <td>159.8</td>\n",
              "      <td>160.05</td>\n",
              "      <td>1880046.0</td>\n",
              "      <td>3030.76</td>\n",
              "    </tr>\n",
              "    <tr>\n",
              "      <th>4</th>\n",
              "      <td>1230</td>\n",
              "      <td>2013-10-14</td>\n",
              "      <td>160.85</td>\n",
              "      <td>161.45</td>\n",
              "      <td>157.70</td>\n",
              "      <td>159.3</td>\n",
              "      <td>159.45</td>\n",
              "      <td>1281419.0</td>\n",
              "      <td>2039.09</td>\n",
              "    </tr>\n",
              "  </tbody>\n",
              "</table>\n",
              "</div>"
            ],
            "text/plain": [
              "   index       Date    Open  ...   Close  Total Trade Quantity  Turnover (Lacs)\n",
              "0   1234 2013-10-08  157.00  ...  155.80             1720413.0          2688.94\n",
              "1   1233 2013-10-09  155.70  ...  155.55             2049580.0          3204.49\n",
              "2   1232 2013-10-10  156.00  ...  160.15             3124853.0          4978.80\n",
              "3   1231 2013-10-11  161.15  ...  160.05             1880046.0          3030.76\n",
              "4   1230 2013-10-14  160.85  ...  159.45             1281419.0          2039.09\n",
              "\n",
              "[5 rows x 9 columns]"
            ]
          },
          "metadata": {},
          "execution_count": 8
        }
      ]
    },
    {
      "cell_type": "code",
      "metadata": {
        "colab": {
          "base_uri": "https://localhost:8080/",
          "height": 284
        },
        "id": "ERVQllu5B9Xp",
        "outputId": "ff0c7edb-9219-45b8-d91d-31848eeba127"
      },
      "source": [
        "plt.plot(df['Close'])"
      ],
      "execution_count": 9,
      "outputs": [
        {
          "output_type": "execute_result",
          "data": {
            "text/plain": [
              "[<matplotlib.lines.Line2D at 0x7f3df0205990>]"
            ]
          },
          "metadata": {},
          "execution_count": 9
        },
        {
          "output_type": "display_data",
          "data": {
            "image/png": "[encoded data removed]",
            "text/plain": [
              "<Figure size 432x288 with 1 Axes>"
            ]
          },
          "metadata": {
            "needs_background": "light"
          }
        }
      ]
    },
    {
      "cell_type": "code",
      "metadata": {
        "id": "ql-bWrySCAR3"
      },
      "source": [
        "df1=df['Close']"
      ],
      "execution_count": 10,
      "outputs": []
    },
    {
      "cell_type": "code",
      "metadata": {
        "colab": {
          "base_uri": "https://localhost:8080/"
        },
        "id": "gyqANhvxCDS7",
        "outputId": "05ee5490-58f1-45db-f53e-4e0346aa2837"
      },
      "source": [
        "scaler=MinMaxScaler(feature_range=(0,1))\n",
        "df1=scaler.fit_transform(np.array(df1).reshape(-1,1))\n",
        "df1"
      ],
      "execution_count": 11,
      "outputs": [
        {
          "output_type": "execute_result",
          "data": {
            "text/plain": [
              "array([[0.23823398],\n",
              "       [0.2371134 ],\n",
              "       [0.25773196],\n",
              "       ...,\n",
              "       [0.51792918],\n",
              "       [0.47758853],\n",
              "       [0.50425818]])"
            ]
          },
          "metadata": {},
          "execution_count": 11
        }
      ]
    },
    {
      "cell_type": "code",
      "metadata": {
        "id": "eUynpgQCCG5K"
      },
      "source": [
        "training_size=int(len(df1)*0.70)\n",
        "test_size=len(df1)-training_size\n",
        "train_data,test_data=df1[0:training_size,:],df1[training_size:len(df1),:1]"
      ],
      "execution_count": 12,
      "outputs": []
    },
    {
      "cell_type": "code",
      "metadata": {
        "colab": {
          "base_uri": "https://localhost:8080/"
        },
        "id": "tfJNNtoPCKEY",
        "outputId": "943d9a57-7f1d-4f35-bb44-c7671ae81bd8"
      },
      "source": [
        "training_size,test_size"
      ],
      "execution_count": 13,
      "outputs": [
        {
          "output_type": "execute_result",
          "data": {
            "text/plain": [
              "(864, 371)"
            ]
          },
          "metadata": {},
          "execution_count": 13
        }
      ]
    },
    {
      "cell_type": "code",
      "metadata": {
        "id": "kKK_gIC5CLJq"
      },
      "source": [
        "def create_dataset(dataset, time_step=1):\n",
        "\tdataX, dataY = [], []\n",
        "\tfor i in range(len(dataset)-time_step-1):\n",
        "\t\ta = dataset[i:(i+time_step), 0]   ###i=0, 0,1,2,3-----99   100 \n",
        "\t\tdataX.append(a)\n",
        "\t\tdataY.append(dataset[i + time_step, 0])\n",
        "\treturn np.array(dataX), np.array(dataY)"
      ],
      "execution_count": 14,
      "outputs": []
    },
    {
      "cell_type": "code",
      "metadata": {
        "id": "21W61fYLCQWG"
      },
      "source": [
        "time_step = 100\n",
        "X_train, y_train = create_dataset(train_data, time_step)\n",
        "X_test, ytest = create_dataset(test_data, time_step)"
      ],
      "execution_count": 15,
      "outputs": []
    },
    {
      "cell_type": "code",
      "metadata": {
        "colab": {
          "base_uri": "https://localhost:8080/"
        },
        "id": "kBA8zxvlCTdJ",
        "outputId": "d5568c10-7ee8-4bff-9ba1-e6ab266bd124"
      },
      "source": [
        "print(X_train.shape), print(y_train.shape)"
      ],
      "execution_count": 16,
      "outputs": [
        {
          "output_type": "stream",
          "name": "stdout",
          "text": [
            "(763, 100)\n",
            "(763,)\n"
          ]
        },
        {
          "output_type": "execute_result",
          "data": {
            "text/plain": [
              "(None, None)"
            ]
          },
          "metadata": {},
          "execution_count": 16
        }
      ]
    },
    {
      "cell_type": "code",
      "metadata": {
        "colab": {
          "base_uri": "https://localhost:8080/"
        },
        "id": "9Pj-6-BJCWSK",
        "outputId": "2ca46c23-7d2d-45e0-e633-908e3b8d6da0"
      },
      "source": [
        "print(X_test.shape), print(ytest.shape)"
      ],
      "execution_count": 17,
      "outputs": [
        {
          "output_type": "stream",
          "name": "stdout",
          "text": [
            "(270, 100)\n",
            "(270,)\n"
          ]
        },
        {
          "output_type": "execute_result",
          "data": {
            "text/plain": [
              "(None, None)"
            ]
          },
          "metadata": {},
          "execution_count": 17
        }
      ]
    },
    {
      "cell_type": "code",
      "metadata": {
        "id": "NMfU6VFoCZOd"
      },
      "source": [
        "X_train =X_train.reshape(X_train.shape[0],X_train.shape[1] , 1)\n",
        "X_test = X_test.reshape(X_test.shape[0],X_test.shape[1] , 1)"
      ],
      "execution_count": 18,
      "outputs": []
    },
    {
      "cell_type": "code",
      "metadata": {
        "id": "OlWRJwvdCcLX"
      },
      "source": [
        "from tensorflow.keras.models import Sequential\n",
        "from tensorflow.keras.layers import Dense\n",
        "from tensorflow.keras.layers import LSTM"
      ],
      "execution_count": 19,
      "outputs": []
    },
    {
      "cell_type": "code",
      "metadata": {
        "colab": {
          "base_uri": "https://localhost:8080/"
        },
        "id": "SkojwJGICfQs",
        "outputId": "277bcd6a-3d61-43bc-f773-4d09c3149fcf"
      },
      "source": [
        "model=Sequential()\n",
        "model.add(LSTM(50,return_sequences=True,input_shape=(100,1)))\n",
        "model.add(LSTM(50,return_sequences=True))\n",
        "model.add(LSTM(50))\n",
        "model.add(Dense(1))\n",
        "model.compile(loss='mean_squared_error',optimizer='adam')\n",
        "model.summary()"
      ],
      "execution_count": 20,
      "outputs": [
        {
          "output_type": "stream",
          "name": "stdout",
          "text": [
            "Model: \"sequential\"\n",
            "_________________________________________________________________\n",
            " Layer (type)                Output Shape              Param #   \n",
            "=================================================================\n",
            " lstm (LSTM)                 (None, 100, 50)           10400     \n",
            "                                                                 \n",
            " lstm_1 (LSTM)               (None, 100, 50)           20200     \n",
            "                                                                 \n",
            " lstm_2 (LSTM)               (None, 50)                20200     \n",
            "                                                                 \n",
            " dense (Dense)               (None, 1)                 51        \n",
            "                                                                 \n",
            "=================================================================\n",
            "Total params: 50,851\n",
            "Trainable params: 50,851\n",
            "Non-trainable params: 0\n",
            "_________________________________________________________________\n"
          ]
        }
      ]
    },
    {
      "cell_type": "code",
      "metadata": {
        "colab": {
          "base_uri": "https://localhost:8080/"
        },
        "id": "hFQwKCnaCivJ",
        "outputId": "dbe5b4fe-1ee2-46f1-d3db-c2684ddb6d26"
      },
      "source": [
        "model.fit(X_train,y_train,validation_split=0.1,epochs=60,batch_size=64,verbose=1)"
      ],
      "execution_count": 21,
      "outputs": [
        {
          "output_type": "stream",
          "name": "stdout",
          "text": [
            "Epoch 1/60\n",
            "11/11 [==============================] - 8s 292ms/step - loss: 0.0106 - val_loss: 9.9428e-04\n",
            "Epoch 2/60\n",
            "11/11 [==============================] - 2s 173ms/step - loss: 0.0029 - val_loss: 0.0012\n",
            "Epoch 3/60\n",
            "11/11 [==============================] - 2s 180ms/step - loss: 0.0023 - val_loss: 0.0011\n",
            "Epoch 4/60\n",
            "11/11 [==============================] - 2s 168ms/step - loss: 0.0017 - val_loss: 7.9586e-04\n",
            "Epoch 5/60\n",
            "11/11 [==============================] - 2s 168ms/step - loss: 0.0013 - val_loss: 6.8906e-04\n",
            "Epoch 6/60\n",
            "11/11 [==============================] - 2s 168ms/step - loss: 0.0010 - val_loss: 0.0010\n",
            "Epoch 7/60\n",
            "11/11 [==============================] - 2s 168ms/step - loss: 9.5862e-04 - val_loss: 7.9319e-04\n",
            "Epoch 8/60\n",
            "11/11 [==============================] - 2s 172ms/step - loss: 9.0373e-04 - val_loss: 6.5077e-04\n",
            "Epoch 9/60\n",
            "11/11 [==============================] - 2s 165ms/step - loss: 8.7775e-04 - val_loss: 5.4720e-04\n",
            "Epoch 10/60\n",
            "11/11 [==============================] - 2s 166ms/step - loss: 8.5839e-04 - val_loss: 5.3335e-04\n",
            "Epoch 11/60\n",
            "11/11 [==============================] - 2s 180ms/step - loss: 8.3912e-04 - val_loss: 5.2551e-04\n",
            "Epoch 12/60\n",
            "11/11 [==============================] - 2s 169ms/step - loss: 8.3161e-04 - val_loss: 5.8687e-04\n",
            "Epoch 13/60\n",
            "11/11 [==============================] - 2s 183ms/step - loss: 8.3744e-04 - val_loss: 4.3634e-04\n",
            "Epoch 14/60\n",
            "11/11 [==============================] - 2s 179ms/step - loss: 7.9934e-04 - val_loss: 4.9220e-04\n",
            "Epoch 15/60\n",
            "11/11 [==============================] - 2s 165ms/step - loss: 7.6386e-04 - val_loss: 4.0463e-04\n",
            "Epoch 16/60\n",
            "11/11 [==============================] - 2s 166ms/step - loss: 7.4860e-04 - val_loss: 4.2360e-04\n",
            "Epoch 17/60\n",
            "11/11 [==============================] - 2s 168ms/step - loss: 7.2341e-04 - val_loss: 4.0816e-04\n",
            "Epoch 18/60\n",
            "11/11 [==============================] - 2s 166ms/step - loss: 7.3032e-04 - val_loss: 4.4718e-04\n",
            "Epoch 19/60\n",
            "11/11 [==============================] - 2s 173ms/step - loss: 6.7835e-04 - val_loss: 4.9094e-04\n",
            "Epoch 20/60\n",
            "11/11 [==============================] - 2s 169ms/step - loss: 6.4852e-04 - val_loss: 3.5560e-04\n",
            "Epoch 21/60\n",
            "11/11 [==============================] - 2s 170ms/step - loss: 7.1361e-04 - val_loss: 6.1523e-04\n",
            "Epoch 22/60\n",
            "11/11 [==============================] - 2s 174ms/step - loss: 6.4911e-04 - val_loss: 4.4963e-04\n",
            "Epoch 23/60\n",
            "11/11 [==============================] - 2s 169ms/step - loss: 6.4093e-04 - val_loss: 4.6110e-04\n",
            "Epoch 24/60\n",
            "11/11 [==============================] - 2s 167ms/step - loss: 6.4716e-04 - val_loss: 3.7680e-04\n",
            "Epoch 25/60\n",
            "11/11 [==============================] - 2s 164ms/step - loss: 6.1252e-04 - val_loss: 3.3475e-04\n",
            "Epoch 26/60\n",
            "11/11 [==============================] - 2s 164ms/step - loss: 5.8846e-04 - val_loss: 3.4374e-04\n",
            "Epoch 27/60\n",
            "11/11 [==============================] - 2s 171ms/step - loss: 5.6349e-04 - val_loss: 4.6401e-04\n",
            "Epoch 28/60\n",
            "11/11 [==============================] - 2s 173ms/step - loss: 5.5182e-04 - val_loss: 4.1201e-04\n",
            "Epoch 29/60\n",
            "11/11 [==============================] - 2s 166ms/step - loss: 5.4055e-04 - val_loss: 3.5519e-04\n",
            "Epoch 30/60\n",
            "11/11 [==============================] - 2s 179ms/step - loss: 5.2512e-04 - val_loss: 3.4935e-04\n",
            "Epoch 31/60\n",
            "11/11 [==============================] - 2s 175ms/step - loss: 5.2887e-04 - val_loss: 3.5983e-04\n",
            "Epoch 32/60\n",
            "11/11 [==============================] - 2s 171ms/step - loss: 5.0634e-04 - val_loss: 3.7836e-04\n",
            "Epoch 33/60\n",
            "11/11 [==============================] - 2s 166ms/step - loss: 5.2003e-04 - val_loss: 3.0970e-04\n",
            "Epoch 34/60\n",
            "11/11 [==============================] - 2s 180ms/step - loss: 5.0572e-04 - val_loss: 3.3689e-04\n",
            "Epoch 35/60\n",
            "11/11 [==============================] - 2s 170ms/step - loss: 4.9555e-04 - val_loss: 4.4886e-04\n",
            "Epoch 36/60\n",
            "11/11 [==============================] - 2s 180ms/step - loss: 5.1966e-04 - val_loss: 3.2502e-04\n",
            "Epoch 37/60\n",
            "11/11 [==============================] - 2s 164ms/step - loss: 4.7586e-04 - val_loss: 3.2460e-04\n",
            "Epoch 38/60\n",
            "11/11 [==============================] - 2s 168ms/step - loss: 4.6573e-04 - val_loss: 3.1686e-04\n",
            "Epoch 39/60\n",
            "11/11 [==============================] - 2s 171ms/step - loss: 4.6972e-04 - val_loss: 3.6229e-04\n",
            "Epoch 40/60\n",
            "11/11 [==============================] - 2s 172ms/step - loss: 4.7124e-04 - val_loss: 2.9282e-04\n",
            "Epoch 41/60\n",
            "11/11 [==============================] - 2s 167ms/step - loss: 4.6531e-04 - val_loss: 3.7427e-04\n",
            "Epoch 42/60\n",
            "11/11 [==============================] - 2s 176ms/step - loss: 4.5931e-04 - val_loss: 3.6693e-04\n",
            "Epoch 43/60\n",
            "11/11 [==============================] - 2s 164ms/step - loss: 4.6376e-04 - val_loss: 2.6044e-04\n",
            "Epoch 44/60\n",
            "11/11 [==============================] - 2s 168ms/step - loss: 4.8011e-04 - val_loss: 2.6217e-04\n",
            "Epoch 45/60\n",
            "11/11 [==============================] - 2s 175ms/step - loss: 4.9983e-04 - val_loss: 4.0989e-04\n",
            "Epoch 46/60\n",
            "11/11 [==============================] - 2s 168ms/step - loss: 4.7013e-04 - val_loss: 2.7716e-04\n",
            "Epoch 47/60\n",
            "11/11 [==============================] - 2s 179ms/step - loss: 4.3896e-04 - val_loss: 2.4857e-04\n",
            "Epoch 48/60\n",
            "11/11 [==============================] - 2s 175ms/step - loss: 4.3523e-04 - val_loss: 4.0996e-04\n",
            "Epoch 49/60\n",
            "11/11 [==============================] - 2s 170ms/step - loss: 4.2248e-04 - val_loss: 3.0131e-04\n",
            "Epoch 50/60\n",
            "11/11 [==============================] - 2s 163ms/step - loss: 4.0511e-04 - val_loss: 2.7023e-04\n",
            "Epoch 51/60\n",
            "11/11 [==============================] - 2s 178ms/step - loss: 4.0820e-04 - val_loss: 2.9238e-04\n",
            "Epoch 52/60\n",
            "11/11 [==============================] - 2s 165ms/step - loss: 3.8160e-04 - val_loss: 3.1922e-04\n",
            "Epoch 53/60\n",
            "11/11 [==============================] - 2s 174ms/step - loss: 3.8865e-04 - val_loss: 2.6675e-04\n",
            "Epoch 54/60\n",
            "11/11 [==============================] - 2s 170ms/step - loss: 3.7948e-04 - val_loss: 2.4037e-04\n",
            "Epoch 55/60\n",
            "11/11 [==============================] - 2s 171ms/step - loss: 3.6818e-04 - val_loss: 2.4033e-04\n",
            "Epoch 56/60\n",
            "11/11 [==============================] - 2s 174ms/step - loss: 3.6003e-04 - val_loss: 3.4445e-04\n",
            "Epoch 57/60\n",
            "11/11 [==============================] - 2s 171ms/step - loss: 3.7885e-04 - val_loss: 2.4575e-04\n",
            "Epoch 58/60\n",
            "11/11 [==============================] - 2s 175ms/step - loss: 3.4766e-04 - val_loss: 2.1151e-04\n",
            "Epoch 59/60\n",
            "11/11 [==============================] - 2s 171ms/step - loss: 3.5083e-04 - val_loss: 2.6343e-04\n",
            "Epoch 60/60\n",
            "11/11 [==============================] - 2s 172ms/step - loss: 3.5744e-04 - val_loss: 2.0579e-04\n"
          ]
        },
        {
          "output_type": "execute_result",
          "data": {
            "text/plain": [
              "<keras.callbacks.History at 0x7f3d899e21d0>"
            ]
          },
          "metadata": {},
          "execution_count": 21
        }
      ]
    },
    {
      "cell_type": "code",
      "metadata": {
        "id": "uVZLeMx3CmFO"
      },
      "source": [
        "test_predict=model.predict(X_test)"
      ],
      "execution_count": 22,
      "outputs": []
    },
    {
      "cell_type": "code",
      "metadata": {
        "id": "robuCITGCr-l"
      },
      "source": [
        "test_predict1=scaler.inverse_transform(test_predict)"
      ],
      "execution_count": 23,
      "outputs": []
    },
    {
      "cell_type": "code",
      "metadata": {
        "colab": {
          "base_uri": "https://localhost:8080/"
        },
        "id": "XT2DKeJjCuwB",
        "outputId": "b0eb050c-0cc6-4dc9-ad60-0a04987ed1bf"
      },
      "source": [
        "test_predict1"
      ],
      "execution_count": 24,
      "outputs": [
        {
          "output_type": "execute_result",
          "data": {
            "text/plain": [
              "array([[191.5505 ],\n",
              "       [192.1116 ],\n",
              "       [194.6327 ],\n",
              "       [198.0491 ],\n",
              "       [201.42   ],\n",
              "       [204.41624],\n",
              "       [207.07672],\n",
              "       [207.9119 ],\n",
              "       [208.31183],\n",
              "       [208.16142],\n",
              "       [208.28853],\n",
              "       [209.24466],\n",
              "       [209.95493],\n",
              "       [209.9197 ],\n",
              "       [207.02762],\n",
              "       [202.11475],\n",
              "       [199.10936],\n",
              "       [197.10936],\n",
              "       [197.11758],\n",
              "       [199.03854],\n",
              "       [201.87144],\n",
              "       [204.25406],\n",
              "       [206.6937 ],\n",
              "       [208.7173 ],\n",
              "       [209.68944],\n",
              "       [209.74481],\n",
              "       [209.41939],\n",
              "       [209.51039],\n",
              "       [209.46358],\n",
              "       [209.10036],\n",
              "       [208.74086],\n",
              "       [207.72777],\n",
              "       [206.04733],\n",
              "       [204.08499],\n",
              "       [203.90253],\n",
              "       [204.10556],\n",
              "       [205.3489 ],\n",
              "       [209.31958],\n",
              "       [215.55148],\n",
              "       [221.58678],\n",
              "       [225.88135],\n",
              "       [227.47723],\n",
              "       [226.65086],\n",
              "       [226.75899],\n",
              "       [225.23781],\n",
              "       [222.75244],\n",
              "       [224.1604 ],\n",
              "       [226.75511],\n",
              "       [228.66667],\n",
              "       [232.53824],\n",
              "       [237.73988],\n",
              "       [242.43608],\n",
              "       [247.33351],\n",
              "       [254.76721],\n",
              "       [260.9116 ],\n",
              "       [264.18628],\n",
              "       [264.73398],\n",
              "       [264.49887],\n",
              "       [263.47842],\n",
              "       [265.08017],\n",
              "       [265.48526],\n",
              "       [266.8724 ],\n",
              "       [267.48047],\n",
              "       [266.24197],\n",
              "       [264.87476],\n",
              "       [262.78574],\n",
              "       [263.82745],\n",
              "       [267.79944],\n",
              "       [274.94165],\n",
              "       [278.32443],\n",
              "       [277.41943],\n",
              "       [274.68304],\n",
              "       [272.84973],\n",
              "       [273.3658 ],\n",
              "       [277.77905],\n",
              "       [282.71335],\n",
              "       [285.7827 ],\n",
              "       [287.4628 ],\n",
              "       [288.74203],\n",
              "       [289.14374],\n",
              "       [289.1107 ],\n",
              "       [291.69736],\n",
              "       [293.53876],\n",
              "       [293.57767],\n",
              "       [292.6719 ],\n",
              "       [291.98947],\n",
              "       [291.9293 ],\n",
              "       [293.65167],\n",
              "       [294.97125],\n",
              "       [295.2323 ],\n",
              "       [294.71698],\n",
              "       [297.91992],\n",
              "       [300.9843 ],\n",
              "       [300.6279 ],\n",
              "       [297.83066],\n",
              "       [292.54276],\n",
              "       [289.06158],\n",
              "       [288.16943],\n",
              "       [288.53934],\n",
              "       [288.6684 ],\n",
              "       [288.85193],\n",
              "       [288.49588],\n",
              "       [288.83887],\n",
              "       [285.52844],\n",
              "       [280.9786 ],\n",
              "       [273.7405 ],\n",
              "       [267.46848],\n",
              "       [262.44144],\n",
              "       [263.94516],\n",
              "       [268.77252],\n",
              "       [273.0521 ],\n",
              "       [277.50842],\n",
              "       [279.64255],\n",
              "       [278.76114],\n",
              "       [275.4121 ],\n",
              "       [269.57062],\n",
              "       [262.83752],\n",
              "       [258.95398],\n",
              "       [256.72125],\n",
              "       [258.4396 ],\n",
              "       [262.6239 ],\n",
              "       [267.1319 ],\n",
              "       [270.36865],\n",
              "       [271.55048],\n",
              "       [271.32883],\n",
              "       [269.87683],\n",
              "       [266.604  ],\n",
              "       [264.56052],\n",
              "       [262.44577],\n",
              "       [263.02972],\n",
              "       [265.53815],\n",
              "       [268.246  ],\n",
              "       [270.37302],\n",
              "       [269.3952 ],\n",
              "       [263.7033 ],\n",
              "       [257.88733],\n",
              "       [254.53214],\n",
              "       [252.5338 ],\n",
              "       [251.69305],\n",
              "       [253.06424],\n",
              "       [255.81697],\n",
              "       [257.11594],\n",
              "       [262.12875],\n",
              "       [267.16302],\n",
              "       [268.95425],\n",
              "       [268.8578 ],\n",
              "       [267.5886 ],\n",
              "       [267.35336],\n",
              "       [266.96408],\n",
              "       [265.91208],\n",
              "       [264.7379 ],\n",
              "       [264.34293],\n",
              "       [265.68967],\n",
              "       [267.90802],\n",
              "       [270.69318],\n",
              "       [273.4139 ],\n",
              "       [275.14404],\n",
              "       [274.89917],\n",
              "       [273.49704],\n",
              "       [273.6817 ],\n",
              "       [275.26578],\n",
              "       [277.19144],\n",
              "       [280.1133 ],\n",
              "       [281.0949 ],\n",
              "       [278.81406],\n",
              "       [276.00482],\n",
              "       [275.9302 ],\n",
              "       [276.07468],\n",
              "       [276.89362],\n",
              "       [275.90414],\n",
              "       [275.0485 ],\n",
              "       [265.6313 ],\n",
              "       [251.47348],\n",
              "       [239.97038],\n",
              "       [236.00761],\n",
              "       [236.98708],\n",
              "       [240.18123],\n",
              "       [244.74278],\n",
              "       [249.69218],\n",
              "       [254.54903],\n",
              "       [258.67706],\n",
              "       [261.6271 ],\n",
              "       [261.81335],\n",
              "       [261.83865],\n",
              "       [262.7711 ],\n",
              "       [261.91   ],\n",
              "       [257.68805],\n",
              "       [255.02399],\n",
              "       [254.68925],\n",
              "       [255.98782],\n",
              "       [257.60696],\n",
              "       [257.9277 ],\n",
              "       [258.48932],\n",
              "       [259.67   ],\n",
              "       [263.07986],\n",
              "       [265.02982],\n",
              "       [266.21326],\n",
              "       [264.27963],\n",
              "       [259.50012],\n",
              "       [254.13472],\n",
              "       [251.46497],\n",
              "       [251.97011],\n",
              "       [254.89516],\n",
              "       [257.77072],\n",
              "       [259.2434 ],\n",
              "       [261.0182 ],\n",
              "       [261.15005],\n",
              "       [264.80576],\n",
              "       [268.2578 ],\n",
              "       [268.40408],\n",
              "       [265.10574],\n",
              "       [263.5205 ],\n",
              "       [263.36633],\n",
              "       [262.51013],\n",
              "       [260.17328],\n",
              "       [256.14127],\n",
              "       [248.4206 ],\n",
              "       [242.6985 ],\n",
              "       [237.91145],\n",
              "       [233.86581],\n",
              "       [233.12686],\n",
              "       [235.98242],\n",
              "       [240.93721],\n",
              "       [243.21135],\n",
              "       [243.65895],\n",
              "       [243.82204],\n",
              "       [243.76683],\n",
              "       [244.6307 ],\n",
              "       [242.74525],\n",
              "       [239.44012],\n",
              "       [236.08557],\n",
              "       [234.88033],\n",
              "       [234.78703],\n",
              "       [234.89243],\n",
              "       [235.2318 ],\n",
              "       [234.67552],\n",
              "       [233.96097],\n",
              "       [234.15683],\n",
              "       [235.30435],\n",
              "       [237.52621],\n",
              "       [240.20209],\n",
              "       [241.08151],\n",
              "       [239.1941 ],\n",
              "       [235.103  ],\n",
              "       [232.49649],\n",
              "       [230.75331],\n",
              "       [230.21541],\n",
              "       [230.89238],\n",
              "       [231.67723],\n",
              "       [232.8651 ],\n",
              "       [230.81445],\n",
              "       [227.03787],\n",
              "       [223.21098],\n",
              "       [221.02954],\n",
              "       [220.28497],\n",
              "       [219.15643],\n",
              "       [219.56763],\n",
              "       [223.58806],\n",
              "       [229.43872],\n",
              "       [234.21425],\n",
              "       [236.70508],\n",
              "       [236.92146],\n",
              "       [235.3335 ],\n",
              "       [233.73462],\n",
              "       [232.09543],\n",
              "       [230.51256],\n",
              "       [229.45451],\n",
              "       [228.30042],\n",
              "       [226.59346],\n",
              "       [222.83037]], dtype=float32)"
            ]
          },
          "metadata": {},
          "execution_count": 24
        }
      ]
    },
    {
      "cell_type": "code",
      "metadata": {
        "colab": {
          "base_uri": "https://localhost:8080/"
        },
        "id": "Bb65wtPODFiI",
        "outputId": "ae38ae60-8826-4d7d-b18f-90af711c112e"
      },
      "source": [
        "import math\n",
        "from sklearn.metrics import mean_squared_error\n",
        "math.sqrt(mean_squared_error(ytest,test_predict))"
      ],
      "execution_count": 25,
      "outputs": [
        {
          "output_type": "execute_result",
          "data": {
            "text/plain": [
              "0.05109781202236365"
            ]
          },
          "metadata": {},
          "execution_count": 25
        }
      ]
    }
  ]
}